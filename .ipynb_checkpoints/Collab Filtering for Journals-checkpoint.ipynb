{
 "cells": [
  {
   "cell_type": "markdown",
   "metadata": {
    "colab_type": "text",
    "id": "JS9Mg-xYEmia"
   },
   "source": [
    "## Imports and Setup"
   ]
  },
  {
   "cell_type": "markdown",
   "metadata": {
    "colab_type": "text",
    "id": "W-0AODAOKxhk"
   },
   "source": [
    "### **If this is the first time setting up the notebook - make sure to set Runtime type to GPU !**"
   ]
  },
  {
   "cell_type": "code",
   "execution_count": 0,
   "metadata": {
    "colab": {
     "base_uri": "https://localhost:8080/",
     "height": 122
    },
    "colab_type": "code",
    "executionInfo": {
     "elapsed": 28983,
     "status": "ok",
     "timestamp": 1550009971661,
     "user": {
      "displayName": "Zarif Aziz",
      "photoUrl": "https://lh3.googleusercontent.com/-yUhAF-OOVNQ/AAAAAAAAAAI/AAAAAAAAYZg/kakF3Ikz5xY/s64/photo.jpg",
      "userId": "08390252974221689885"
     },
     "user_tz": -660
    },
    "id": "GzFIE_5QDWvu",
    "outputId": "8d82f725-228d-483c-8fdc-206d7bdc3354"
   },
   "outputs": [
    {
     "name": "stdout",
     "output_type": "stream",
     "text": [
      "Go to this URL in a browser: https://accounts.google.com/o/oauth2/auth?client_id=947318989803-6bn6qk8qdgf4n4g3pfee6491hc0brc4i.apps.googleusercontent.com&redirect_uri=urn%3Aietf%3Awg%3Aoauth%3A2.0%3Aoob&scope=email%20https%3A%2F%2Fwww.googleapis.com%2Fauth%2Fdocs.test%20https%3A%2F%2Fwww.googleapis.com%2Fauth%2Fdrive%20https%3A%2F%2Fwww.googleapis.com%2Fauth%2Fdrive.photos.readonly%20https%3A%2F%2Fwww.googleapis.com%2Fauth%2Fpeopleapi.readonly&response_type=code\n",
      "\n",
      "Enter your authorization code:\n",
      "··········\n",
      "Mounted at /content/gdrive\n"
     ]
    }
   ],
   "source": [
    "# This should be on the top of every Colab Notebook\n",
    "# Enables normal file read/write functions in Python\n",
    "\n",
    "from google.colab import drive\n",
    "drive.mount('/content/gdrive', force_remount=True)\n",
    "root_dir = \"/content/gdrive/My Drive/\"\n",
    "base_dir = root_dir + 'fastai-v3/'\n",
    "\n",
    "# After running this cell, click on the link and enter the code provided"
   ]
  },
  {
   "cell_type": "code",
   "execution_count": 0,
   "metadata": {
    "colab": {},
    "colab_type": "code",
    "id": "ciUobtw8EbI3"
   },
   "outputs": [],
   "source": [
    "# Importing standard libraries\n",
    "import pandas as pd\n",
    "import numpy as np\n",
    "import datetime\n",
    "import seaborn as sns\n",
    "import io\n",
    "import dateutil\n",
    "import cv2\n",
    "sns.set_style('whitegrid')\n",
    "%matplotlib inline\n"
   ]
  },
  {
   "cell_type": "markdown",
   "metadata": {
    "colab_type": "text",
    "id": "NJ7lDtFo_G01"
   },
   "source": [
    "### ** Importing fastai.collab here so I can edit the source code **"
   ]
  },
  {
   "cell_type": "code",
   "execution_count": 0,
   "metadata": {
    "colab": {},
    "colab_type": "code",
    "id": "aWQSS3eD9ou-"
   },
   "outputs": [],
   "source": [
    "\"Module support for Collaborative Filtering\"\n",
    "from fastai.tabular import *\n",
    "from fastai import tabular\n",
    "\n",
    "__all__ = [*tabular.__all__, 'EmbeddingDotBias', 'EmbeddingNN', 'collab_learner', 'CollabDataBunch', 'CollabLine',\n",
    "           'CollabList', 'CollabLearner']\n",
    "\n",
    "class CollabProcessor(TabularProcessor):\n",
    "    \"Subclass `TabularProcessor for `process_one`.\"\n",
    "    \n",
    "    def process_one(self, item):\n",
    "        res = super().process_one(item)\n",
    "        return CollabLine(res.cats,res.conts,res.classes,res.names)\n",
    "\n",
    "class CollabLine(TabularLine):\n",
    "    \"Base item for collaborative filtering, subclasses `TabularLine`.\"\n",
    "    def __init__(self, cats, conts, classes, names):\n",
    "        super().__init__(cats, conts, classes, names)\n",
    "        self.data = [self.data[0][0],self.data[0][1]]\n",
    "\n",
    "class CollabList(TabularList):\n",
    "    \"Base `ItemList` for collaborative filtering, subclasses `TabularList`.\"\n",
    "    _item_cls,_label_cls,_processor = CollabLine,FloatList,CollabProcessor\n",
    "\n",
    "    def reconstruct(self, t:Tensor): return CollabLine(tensor(t), tensor([]), self.classes, self.col_names)\n",
    "\n",
    "class EmbeddingNN(TabularModel):\n",
    "    \"Subclass `TabularModel` to create a NN suitable for collaborative filtering.\"\n",
    "    def __init__(self, emb_szs:ListSizes, **kwargs):\n",
    "        super().__init__(emb_szs=emb_szs, n_cont=0, out_sz=1, **kwargs)\n",
    "\n",
    "    def forward(self, users:LongTensor, items:LongTensor) -> Tensor:\n",
    "        return super().forward(torch.stack([users,items], dim=1), None)\n",
    "\n",
    "class EmbeddingDotBias(nn.Module):\n",
    "    \"Base dot model for collaborative filtering.\"\n",
    "    def __init__(self, n_factors:int, n_users:int, n_items:int, y_range:Tuple[float,float]=None):\n",
    "        super().__init__()\n",
    "        self.y_range = y_range\n",
    "        (self.u_weight, self.i_weight, self.u_bias, self.i_bias) = [embedding(*o) for o in [\n",
    "            (n_users, n_factors), (n_items, n_factors), (n_users,1), (n_items,1)\n",
    "        ]]\n",
    "\n",
    "    def forward(self, users:LongTensor, items:LongTensor) -> Tensor:\n",
    "        dot = self.u_weight(users)* self.i_weight(items)\n",
    "        res = dot.sum(1) + self.u_bias(users).squeeze() + self.i_bias(items).squeeze()\n",
    "        if self.y_range is None: return res\n",
    "        \n",
    "        # ZARIF - should the result be passed through Sigmoid function??\n",
    "        return torch.sigmoid(res) * (self.y_range[1]-self.y_range[0]) + self.y_range[0]\n",
    "\n",
    "class CollabDataBunch(DataBunch):\n",
    "    \"Base `DataBunch` for collaborative filtering.\"\n",
    "\n",
    "    @classmethod\n",
    "    def from_df(cls, ratings:DataFrame, pct_val:float=0.2, user_name:Optional[str]=None, item_name:Optional[str]=None,\n",
    "                rating_name:Optional[str]=None, test:DataFrame=None, seed=None, **kwargs):\n",
    "        \"Create a `DataBunch` suitable for collaborative filtering from `ratings`.\"\n",
    "        user_name   = ifnone(user_name,  ratings.columns[0])\n",
    "        item_name   = ifnone(item_name,  ratings.columns[1])\n",
    "        rating_name = ifnone(rating_name,ratings.columns[2])\n",
    "        cat_names = [user_name,item_name]\n",
    "        \n",
    "        # The lines below is the data. DATA = src.databunch() - Zarif\n",
    "        src = (CollabList.from_df(ratings, cat_names=cat_names, procs=Categorify)\n",
    "               .random_split_by_pct(valid_pct=pct_val, seed=seed).label_from_df(cols=rating_name))\n",
    "        \n",
    "        CustomItemList = (CollabList.from_df(ratings, cat_names=cat_names, procs=Categorify))\n",
    "                          \n",
    "        CustomItemLists = (CollabList.from_df(ratings, cat_names=cat_names, procs=Categorify)\n",
    "               .random_split_by_pct(valid_pct=pct_val, seed=seed))\n",
    "        \n",
    "        #print(CustomItemList.get(2))\n",
    "        #print(CustomItemLists)\n",
    "\n",
    "        \n",
    "        if test is not None: src.add_test(CollabList.from_df(test, cat_names=cat_names))\n",
    "        return src.databunch(**kwargs)\n",
    "\n",
    "class CollabLearner(Learner):\n",
    "    \"`Learner` suitable for collaborative filtering.\"\n",
    "    def get_idx(self, arr:Collection, is_item:bool=True):\n",
    "        \"Fetch item or user (based on `is_item`) for all in `arr`. (Set model to `cpu` and no grad.)\"\n",
    "        m = self.model.eval().cpu()\n",
    "        requires_grad(m,False)\n",
    "        u_class,i_class = self.data.classes.values()\n",
    "        classes = i_class if is_item else u_class\n",
    "        c2i = {v:k for k,v in enumerate(classes)}\n",
    "        return tensor([c2i[o] for o in arr])\n",
    "\n",
    "    def bias(self, arr:Collection, is_item:bool=True):\n",
    "        \"Bias for item or user (based on `is_item`) for all in `arr`. (Set model to `cpu` and no grad.)\"\n",
    "        idx = self.get_idx(arr, is_item)\n",
    "        m = self.model\n",
    "        layer = m.i_bias if is_item else m.u_bias\n",
    "        return layer(idx).squeeze()\n",
    "\n",
    "    def weight(self, arr:Collection, is_item:bool=True):\n",
    "        \"Bias for item or user (based on `is_item`) for all in `arr`. (Set model to `cpu` and no grad.)\"\n",
    "        idx = self.get_idx(arr, is_item)\n",
    "        m = self.model\n",
    "        layer = m.i_weight if is_item else m.u_weight\n",
    "        return layer(idx)\n",
    "\n",
    "def collab_learner(data, n_factors:int=None, use_nn:bool=False, metrics=None,\n",
    "                   emb_szs:Dict[str,int]=None, wd:float=0.01, **kwargs)->Learner:\n",
    "    \"Create a Learner for collaborative filtering on `data`.\"\n",
    "    emb_szs = data.get_emb_szs(ifnone(emb_szs, {}))\n",
    "    u,m = data.classes.values()\n",
    "    if use_nn: \n",
    "      model = EmbeddingNN(emb_szs=emb_szs, **kwargs)\n",
    "      print('Embedding NN')\n",
    "    else:      \n",
    "      model = EmbeddingDotBias(n_factors, len(u), len(m), **kwargs)\n",
    "      print('Embedding Dot Bias')\n",
    "    return CollabLearner(data, model, metrics=metrics, wd=wd)\n",
    "\n"
   ]
  },
  {
   "cell_type": "code",
   "execution_count": 0,
   "metadata": {
    "colab": {},
    "colab_type": "code",
    "id": "iyxVRRgE9n4B"
   },
   "outputs": [],
   "source": [
    "# Importing fastAI libraries\n",
    "#from fastai.collab import *\n",
    "from fastai.tabular import *\n",
    "# Fixing Attribute error\n",
    "get_ipython().config.get('IPKernelApp', {})['parent_appname'] = \"\"\n",
    "CUDA_LAUNCH_BLOCKING=1"
   ]
  },
  {
   "cell_type": "markdown",
   "metadata": {
    "colab_type": "text",
    "id": "K4scvYKBEtse"
   },
   "source": [
    "### Only run this section when you need to import files\n",
    "\n"
   ]
  },
  {
   "cell_type": "code",
   "execution_count": 0,
   "metadata": {
    "colab": {},
    "colab_type": "code",
    "id": "5ukBJd-WEs2l"
   },
   "outputs": [],
   "source": [
    "# from google.colab import files\n",
    "# uploaded = files.upload()\n",
    "# for fn in uploaded.keys():\n",
    "#   print('User uploaded file \"{name}\" with length {length} bytes'.format(\n",
    "#       name=fn, length=len(uploaded[fn])))"
   ]
  },
  {
   "cell_type": "markdown",
   "metadata": {
    "colab_type": "text",
    "id": "_s_5AFraE4yk"
   },
   "source": [
    "## Uploading Aggregated Data"
   ]
  },
  {
   "cell_type": "markdown",
   "metadata": {
    "colab_type": "text",
    "id": "QJ7q1VUfGA44"
   },
   "source": [
    "Aggregated Data is the name for the data where the amounts for every Journal ID and every GL Account are summed up into one value. Before aggregating, the structure of the data had multiple dollar amounts for every Journal_ID and GL Account. This is equivalent to one user having multiple ratings for the same movie, which doesn't make sense. Hence the data was aggregated using the following method:\n",
    "\n",
    "df_grouped = df1.groupby(['Journal_ID','GL_Account'])['Amount'].sum().reset_index()"
   ]
  },
  {
   "cell_type": "code",
   "execution_count": 0,
   "metadata": {
    "colab": {
     "base_uri": "https://localhost:8080/",
     "height": 421
    },
    "colab_type": "code",
    "executionInfo": {
     "elapsed": 755,
     "status": "ok",
     "timestamp": 1550028453813,
     "user": {
      "displayName": "Zarif Aziz",
      "photoUrl": "https://lh3.googleusercontent.com/-yUhAF-OOVNQ/AAAAAAAAAAI/AAAAAAAAYZg/kakF3Ikz5xY/s64/photo.jpg",
      "userId": "08390252974221689885"
     },
     "user_tz": -660
    },
    "id": "-K7yxS4BE6RM",
    "outputId": "8f54ea5d-a23e-4612-bf0f-180162dfa008"
   },
   "outputs": [
    {
     "data": {
      "text/html": [
       "<div>\n",
       "<style scoped>\n",
       "    .dataframe tbody tr th:only-of-type {\n",
       "        vertical-align: middle;\n",
       "    }\n",
       "\n",
       "    .dataframe tbody tr th {\n",
       "        vertical-align: top;\n",
       "    }\n",
       "\n",
       "    .dataframe thead th {\n",
       "        text-align: right;\n",
       "    }\n",
       "</style>\n",
       "<table border=\"1\" class=\"dataframe\">\n",
       "  <thead>\n",
       "    <tr style=\"text-align: right;\">\n",
       "      <th></th>\n",
       "      <th>Journal_ID</th>\n",
       "      <th>GL_Account</th>\n",
       "      <th>Amount</th>\n",
       "    </tr>\n",
       "  </thead>\n",
       "  <tbody>\n",
       "    <tr>\n",
       "      <th>0</th>\n",
       "      <td>1</td>\n",
       "      <td>1265</td>\n",
       "      <td>-71069.44</td>\n",
       "    </tr>\n",
       "    <tr>\n",
       "      <th>1</th>\n",
       "      <td>1</td>\n",
       "      <td>3320</td>\n",
       "      <td>71069.44</td>\n",
       "    </tr>\n",
       "    <tr>\n",
       "      <th>2</th>\n",
       "      <td>10</td>\n",
       "      <td>1265</td>\n",
       "      <td>-24604.95</td>\n",
       "    </tr>\n",
       "    <tr>\n",
       "      <th>3</th>\n",
       "      <td>10</td>\n",
       "      <td>3320</td>\n",
       "      <td>24604.95</td>\n",
       "    </tr>\n",
       "    <tr>\n",
       "      <th>4</th>\n",
       "      <td>100</td>\n",
       "      <td>1265</td>\n",
       "      <td>-50774.00</td>\n",
       "    </tr>\n",
       "    <tr>\n",
       "      <th>5</th>\n",
       "      <td>100</td>\n",
       "      <td>3320</td>\n",
       "      <td>50774.00</td>\n",
       "    </tr>\n",
       "    <tr>\n",
       "      <th>6</th>\n",
       "      <td>1000</td>\n",
       "      <td>1265</td>\n",
       "      <td>244000.00</td>\n",
       "    </tr>\n",
       "    <tr>\n",
       "      <th>7</th>\n",
       "      <td>1000</td>\n",
       "      <td>1281</td>\n",
       "      <td>-244000.00</td>\n",
       "    </tr>\n",
       "    <tr>\n",
       "      <th>8</th>\n",
       "      <td>10000</td>\n",
       "      <td>1310</td>\n",
       "      <td>2762.76</td>\n",
       "    </tr>\n",
       "    <tr>\n",
       "      <th>9</th>\n",
       "      <td>10000</td>\n",
       "      <td>3620</td>\n",
       "      <td>-251.16</td>\n",
       "    </tr>\n",
       "    <tr>\n",
       "      <th>10</th>\n",
       "      <td>10000</td>\n",
       "      <td>6210</td>\n",
       "      <td>-2511.60</td>\n",
       "    </tr>\n",
       "    <tr>\n",
       "      <th>11</th>\n",
       "      <td>10001</td>\n",
       "      <td>1310</td>\n",
       "      <td>116.60</td>\n",
       "    </tr>\n",
       "  </tbody>\n",
       "</table>\n",
       "</div>"
      ],
      "text/plain": [
       "    Journal_ID  GL_Account     Amount\n",
       "0            1        1265  -71069.44\n",
       "1            1        3320   71069.44\n",
       "2           10        1265  -24604.95\n",
       "3           10        3320   24604.95\n",
       "4          100        1265  -50774.00\n",
       "5          100        3320   50774.00\n",
       "6         1000        1265  244000.00\n",
       "7         1000        1281 -244000.00\n",
       "8        10000        1310    2762.76\n",
       "9        10000        3620    -251.16\n",
       "10       10000        6210   -2511.60\n",
       "11       10001        1310     116.60"
      ]
     },
     "execution_count": 44,
     "metadata": {
      "tags": []
     },
     "output_type": "execute_result"
    }
   ],
   "source": [
    "# LOADING AGGREGATED DATA FROM GOOGLE DRIVE\n",
    "df_grouped = pd.read_csv('/content/gdrive/My Drive/fastai-v3/real_aggregated_data.csv')\n",
    "df_grouped = df_grouped.drop(['Unnamed: 0'], axis=1)\n",
    "df_grouped.head(12)"
   ]
  },
  {
   "cell_type": "code",
   "execution_count": 0,
   "metadata": {
    "colab": {
     "base_uri": "https://localhost:8080/",
     "height": 153
    },
    "colab_type": "code",
    "executionInfo": {
     "elapsed": 896,
     "status": "ok",
     "timestamp": 1550028354941,
     "user": {
      "displayName": "Zarif Aziz",
      "photoUrl": "https://lh3.googleusercontent.com/-yUhAF-OOVNQ/AAAAAAAAAAI/AAAAAAAAYZg/kakF3Ikz5xY/s64/photo.jpg",
      "userId": "08390252974221689885"
     },
     "user_tz": -660
    },
    "id": "Y8YsjND6FKIN",
    "outputId": "663c03bf-4909-46dd-f916-ab6083f2c9d4"
   },
   "outputs": [
    {
     "name": "stdout",
     "output_type": "stream",
     "text": [
      "<class 'pandas.core.frame.DataFrame'>\n",
      "RangeIndex: 190838 entries, 0 to 190837\n",
      "Data columns (total 3 columns):\n",
      "Journal_ID    190838 non-null object\n",
      "GL_Account    190838 non-null int64\n",
      "Amount        190838 non-null float64\n",
      "dtypes: float64(1), int64(1), object(1)\n",
      "memory usage: 4.4+ MB\n"
     ]
    }
   ],
   "source": [
    "# Grouping up the data as above definitely seems the way to go. It also reduced our data size to half.\n",
    "# changing the Journal_ID type to string so that the groupby function below works correctly\n",
    "\n",
    "df_grouped['Journal_ID'] = df_grouped.Journal_ID.astype(str)\n",
    "df_grouped.info()"
   ]
  },
  {
   "cell_type": "markdown",
   "metadata": {
    "colab_type": "text",
    "id": "zMIzTXqlFt0J"
   },
   "source": [
    "##  Scaling the Data\n"
   ]
  },
  {
   "cell_type": "markdown",
   "metadata": {
    "colab_type": "text",
    "id": "cteoXwzg_eUZ"
   },
   "source": [
    "-  To reduce our training error down from the millions, we have to scale the data down to a reasonable range\n",
    "\n",
    "- We have to create a scaling vector that transforms all the amounts between -1 and 1 by dividing by the biggest number in that particular transaction ID. We should store the unique scaling factor for every transaction ID in a **scaling dictionary**.\n",
    "- The scaling dictionary is necessary for converting the scaled amounts back to their real amounts in dollars.\n",
    "\n",
    "- Find the maximum Amount in every transaction ID and divide by that amount"
   ]
  },
  {
   "cell_type": "code",
   "execution_count": 0,
   "metadata": {
    "colab": {
     "base_uri": "https://localhost:8080/",
     "height": 204
    },
    "colab_type": "code",
    "executionInfo": {
     "elapsed": 33271,
     "status": "ok",
     "timestamp": 1550009976097,
     "user": {
      "displayName": "Zarif Aziz",
      "photoUrl": "https://lh3.googleusercontent.com/-yUhAF-OOVNQ/AAAAAAAAAAI/AAAAAAAAYZg/kakF3Ikz5xY/s64/photo.jpg",
      "userId": "08390252974221689885"
     },
     "user_tz": -660
    },
    "id": "_Etj7bL8FX0d",
    "outputId": "a85faf96-35a7-4719-f0ca-c75d4815a2ce"
   },
   "outputs": [
    {
     "data": {
      "text/html": [
       "<div>\n",
       "<style scoped>\n",
       "    .dataframe tbody tr th:only-of-type {\n",
       "        vertical-align: middle;\n",
       "    }\n",
       "\n",
       "    .dataframe tbody tr th {\n",
       "        vertical-align: top;\n",
       "    }\n",
       "\n",
       "    .dataframe thead th {\n",
       "        text-align: right;\n",
       "    }\n",
       "</style>\n",
       "<table border=\"1\" class=\"dataframe\">\n",
       "  <thead>\n",
       "    <tr style=\"text-align: right;\">\n",
       "      <th></th>\n",
       "      <th>Journal_ID</th>\n",
       "      <th>Amount</th>\n",
       "    </tr>\n",
       "  </thead>\n",
       "  <tbody>\n",
       "    <tr>\n",
       "      <th>0</th>\n",
       "      <td>1</td>\n",
       "      <td>71069.44</td>\n",
       "    </tr>\n",
       "    <tr>\n",
       "      <th>1</th>\n",
       "      <td>10</td>\n",
       "      <td>24604.95</td>\n",
       "    </tr>\n",
       "    <tr>\n",
       "      <th>2</th>\n",
       "      <td>100</td>\n",
       "      <td>50774.00</td>\n",
       "    </tr>\n",
       "    <tr>\n",
       "      <th>3</th>\n",
       "      <td>1000</td>\n",
       "      <td>244000.00</td>\n",
       "    </tr>\n",
       "    <tr>\n",
       "      <th>4</th>\n",
       "      <td>10000</td>\n",
       "      <td>2762.76</td>\n",
       "    </tr>\n",
       "  </tbody>\n",
       "</table>\n",
       "</div>"
      ],
      "text/plain": [
       "  Journal_ID     Amount\n",
       "0          1   71069.44\n",
       "1         10   24604.95\n",
       "2        100   50774.00\n",
       "3       1000  244000.00\n",
       "4      10000    2762.76"
      ]
     },
     "execution_count": 9,
     "metadata": {
      "tags": []
     },
     "output_type": "execute_result"
    }
   ],
   "source": [
    "scaling_vector = df_grouped.groupby(['Journal_ID'], as_index=False)['Amount'].max()\n",
    "scaling_vector.head()"
   ]
  },
  {
   "cell_type": "code",
   "execution_count": 0,
   "metadata": {
    "colab": {
     "base_uri": "https://localhost:8080/",
     "height": 34
    },
    "colab_type": "code",
    "executionInfo": {
     "elapsed": 33262,
     "status": "ok",
     "timestamp": 1550009976102,
     "user": {
      "displayName": "Zarif Aziz",
      "photoUrl": "https://lh3.googleusercontent.com/-yUhAF-OOVNQ/AAAAAAAAAAI/AAAAAAAAYZg/kakF3Ikz5xY/s64/photo.jpg",
      "userId": "08390252974221689885"
     },
     "user_tz": -660
    },
    "id": "He8ZyzToF9E6",
    "outputId": "5e416027-8f23-4526-9fde-3845884fd9fc"
   },
   "outputs": [
    {
     "data": {
      "text/plain": [
       "71069.44"
      ]
     },
     "execution_count": 10,
     "metadata": {
      "tags": []
     },
     "output_type": "execute_result"
    }
   ],
   "source": [
    "# Creating the scaling dictionary, this is useful for converting back the scaled amounts into their real amounts\n",
    "scaling_dict  = dict(zip(scaling_vector.Journal_ID, scaling_vector.Amount))\n",
    "\n",
    "# To find the scaling factor for Transaction_ID = 1 :\n",
    "scaling_dict['1']"
   ]
  },
  {
   "cell_type": "code",
   "execution_count": 0,
   "metadata": {
    "colab": {},
    "colab_type": "code",
    "id": "iluu6IeLGPl5"
   },
   "outputs": [],
   "source": [
    "# Using the 'apply' function to scale the Amounts to between -1 and 1\n",
    "def scale(key, amount):\n",
    "  scale_factor = scaling_dict[str(key)]\n",
    "  if scale_factor ==0: scale_factor = 1\n",
    "    \n",
    "  return (amount/scale_factor)\n",
    "  #return scale_factor\n",
    "\n",
    "df_grouped['Scaled_Amount'] = df_grouped.apply(lambda row: scale(row['Journal_ID'], row['Amount']), axis=1)\n",
    "\n",
    "# Cleaning up data after scaling\n",
    "df_scaled = df_grouped.drop(['Amount'], axis=1)\n",
    "df_scaled.columns = ['Journal_ID','GL_Account','Amount']"
   ]
  },
  {
   "cell_type": "markdown",
   "metadata": {
    "colab_type": "text",
    "id": "lUtbfs6tGo_S"
   },
   "source": [
    "**As you can see below - all the amounts have been converted to between -1 and 1 !**"
   ]
  },
  {
   "cell_type": "code",
   "execution_count": 0,
   "metadata": {
    "colab": {
     "base_uri": "https://localhost:8080/",
     "height": 153
    },
    "colab_type": "code",
    "executionInfo": {
     "elapsed": 38235,
     "status": "ok",
     "timestamp": 1550009981112,
     "user": {
      "displayName": "Zarif Aziz",
      "photoUrl": "https://lh3.googleusercontent.com/-yUhAF-OOVNQ/AAAAAAAAAAI/AAAAAAAAYZg/kakF3Ikz5xY/s64/photo.jpg",
      "userId": "08390252974221689885"
     },
     "user_tz": -660
    },
    "id": "Tekk0kjmGg46",
    "outputId": "20a8a5c9-79fe-4a0f-c147-2538b58469b4"
   },
   "outputs": [
    {
     "name": "stdout",
     "output_type": "stream",
     "text": [
      "<class 'pandas.core.frame.DataFrame'>\n",
      "RangeIndex: 190838 entries, 0 to 190837\n",
      "Data columns (total 3 columns):\n",
      "Journal_ID    190838 non-null object\n",
      "GL_Account    190838 non-null int64\n",
      "Amount        190838 non-null float64\n",
      "dtypes: float64(1), int64(1), object(1)\n",
      "memory usage: 4.4+ MB\n"
     ]
    }
   ],
   "source": [
    "df_scaled.tail()\n",
    "df_scaled.info()"
   ]
  },
  {
   "cell_type": "markdown",
   "metadata": {
    "colab_type": "text",
    "id": "elLoqbQrG7t3"
   },
   "source": [
    "# Fitting data into Collab Model"
   ]
  },
  {
   "cell_type": "markdown",
   "metadata": {
    "colab_type": "text",
    "id": "G1HsfdM8HK1O"
   },
   "source": [
    "## Attempt 3 - After scaling the data"
   ]
  },
  {
   "cell_type": "code",
   "execution_count": 0,
   "metadata": {
    "colab": {},
    "colab_type": "code",
    "id": "9IQovHBBHG03"
   },
   "outputs": [],
   "source": [
    "scaled_data = CollabDataBunch.from_df(df_scaled, seed=42, user_name = 'Journal_ID', pct_val=0.1, item_name='GL_Account')\n",
    "\n",
    "#?? CollabDataBunch\n",
    "#?? collab_learner\n",
    "\n",
    "#scaled_data.show_batch()\n",
    "#scaled_data.from_df()"
   ]
  },
  {
   "cell_type": "code",
   "execution_count": 0,
   "metadata": {
    "colab": {
     "base_uri": "https://localhost:8080/",
     "height": 34
    },
    "colab_type": "code",
    "executionInfo": {
     "elapsed": 44127,
     "status": "ok",
     "timestamp": 1550009987053,
     "user": {
      "displayName": "Zarif Aziz",
      "photoUrl": "https://lh3.googleusercontent.com/-yUhAF-OOVNQ/AAAAAAAAAAI/AAAAAAAAYZg/kakF3Ikz5xY/s64/photo.jpg",
      "userId": "08390252974221689885"
     },
     "user_tz": -660
    },
    "id": "jQpC7vVQH5IL",
    "outputId": "632479ce-1913-47de-f436-bef6b0e47257"
   },
   "outputs": [
    {
     "name": "stdout",
     "output_type": "stream",
     "text": [
      "Embedding Dot Bias\n"
     ]
    }
   ],
   "source": [
    "# Now we can input a y_range because our Amounts are scaled\n",
    "y_range = [-1.05,1.05]\n",
    "learn = collab_learner(scaled_data, n_factors=50, y_range=y_range, wd=1e-1)"
   ]
  },
  {
   "cell_type": "markdown",
   "metadata": {
    "colab_type": "text",
    "id": "5UnekgThHjpZ"
   },
   "source": [
    "## Learning rate finder\n",
    "### Even though 1e-6 seems like the best option, 5e-3 works the best"
   ]
  },
  {
   "cell_type": "code",
   "execution_count": 0,
   "metadata": {
    "colab": {
     "base_uri": "https://localhost:8080/",
     "height": 300
    },
    "colab_type": "code",
    "executionInfo": {
     "elapsed": 55079,
     "status": "ok",
     "timestamp": 1550009998028,
     "user": {
      "displayName": "Zarif Aziz",
      "photoUrl": "https://lh3.googleusercontent.com/-yUhAF-OOVNQ/AAAAAAAAAAI/AAAAAAAAYZg/kakF3Ikz5xY/s64/photo.jpg",
      "userId": "08390252974221689885"
     },
     "user_tz": -660
    },
    "id": "3osFKmXYHp61",
    "outputId": "03a5bc0a-da7a-4ec8-e3df-7edafeb42a12"
   },
   "outputs": [
    {
     "data": {
      "text/html": [],
      "text/plain": [
       "<IPython.core.display.HTML object>"
      ]
     },
     "metadata": {
      "tags": []
     },
     "output_type": "display_data"
    },
    {
     "name": "stdout",
     "output_type": "stream",
     "text": [
      "LR Finder is complete, type {learner_name}.recorder.plot() to see the graph.\n"
     ]
    },
    {
     "data": {
      "image/png": "[encoded data removed]",
      "text/plain": [
       "<Figure size 432x288 with 1 Axes>"
      ]
     },
     "metadata": {
      "tags": []
     },
     "output_type": "display_data"
    }
   ],
   "source": [
    "learn.lr_find()\n",
    "learn.recorder.plot(skip_end=15)"
   ]
  },
  {
   "cell_type": "code",
   "execution_count": 0,
   "metadata": {
    "colab": {
     "base_uri": "https://localhost:8080/",
     "height": 157
    },
    "colab_type": "code",
    "executionInfo": {
     "elapsed": 153513,
     "status": "ok",
     "timestamp": 1550010096478,
     "user": {
      "displayName": "Zarif Aziz",
      "photoUrl": "https://lh3.googleusercontent.com/-yUhAF-OOVNQ/AAAAAAAAAAI/AAAAAAAAYZg/kakF3Ikz5xY/s64/photo.jpg",
      "userId": "08390252974221689885"
     },
     "user_tz": -660
    },
    "id": "EydQpctCHV6e",
    "outputId": "aa0b1a34-0730-484d-ad01-2fb480d6b47f"
   },
   "outputs": [
    {
     "data": {
      "text/html": [
       "Total time: 01:38 <p><table style='width:300px; margin-bottom:10px'>\n",
       "  <tr>\n",
       "    <th>epoch</th>\n",
       "    <th>train_loss</th>\n",
       "    <th>valid_loss</th>\n",
       "  </tr>\n",
       "  <tr>\n",
       "    <th>1</th>\n",
       "    <th>0.310592</th>\n",
       "    <th>0.302407</th>\n",
       "  </tr>\n",
       "  <tr>\n",
       "    <th>2</th>\n",
       "    <th>0.088691</th>\n",
       "    <th>0.106607</th>\n",
       "  </tr>\n",
       "  <tr>\n",
       "    <th>3</th>\n",
       "    <th>0.049848</th>\n",
       "    <th>0.081379</th>\n",
       "  </tr>\n",
       "  <tr>\n",
       "    <th>4</th>\n",
       "    <th>0.033003</th>\n",
       "    <th>0.077453</th>\n",
       "  </tr>\n",
       "</table>\n"
      ],
      "text/plain": [
       "<IPython.core.display.HTML object>"
      ]
     },
     "metadata": {
      "tags": []
     },
     "output_type": "display_data"
    }
   ],
   "source": [
    "learn.fit_one_cycle(4, 1e-3)"
   ]
  },
  {
   "cell_type": "code",
   "execution_count": 0,
   "metadata": {
    "colab": {},
    "colab_type": "code",
    "id": "MdyUeMpYHaYy"
   },
   "outputs": [],
   "source": [
    "# Make sure to save the models within your mounted gdrive, otherwise they will be lost when you restart Colab\n",
    "learn.save(base_dir + 'scaled_weights2')"
   ]
  },
  {
   "cell_type": "markdown",
   "metadata": {
    "colab_type": "text",
    "id": "i2xL3vCDJaBU"
   },
   "source": [
    "# Getting Predictions"
   ]
  },
  {
   "cell_type": "code",
   "execution_count": 0,
   "metadata": {
    "colab": {
     "base_uri": "https://localhost:8080/",
     "height": 204
    },
    "colab_type": "code",
    "executionInfo": {
     "elapsed": 155233,
     "status": "ok",
     "timestamp": 1550010098237,
     "user": {
      "displayName": "Zarif Aziz",
      "photoUrl": "https://lh3.googleusercontent.com/-yUhAF-OOVNQ/AAAAAAAAAAI/AAAAAAAAYZg/kakF3Ikz5xY/s64/photo.jpg",
      "userId": "08390252974221689885"
     },
     "user_tz": -660
    },
    "id": "OXyLRCPYJcVG",
    "outputId": "c49ad802-cdcc-446a-83e0-0c04e17d620b"
   },
   "outputs": [
    {
     "data": {
      "text/html": [
       "<div>\n",
       "<style scoped>\n",
       "    .dataframe tbody tr th:only-of-type {\n",
       "        vertical-align: middle;\n",
       "    }\n",
       "\n",
       "    .dataframe tbody tr th {\n",
       "        vertical-align: top;\n",
       "    }\n",
       "\n",
       "    .dataframe thead th {\n",
       "        text-align: right;\n",
       "    }\n",
       "</style>\n",
       "<table border=\"1\" class=\"dataframe\">\n",
       "  <thead>\n",
       "    <tr style=\"text-align: right;\">\n",
       "      <th></th>\n",
       "      <th>Journal_ID</th>\n",
       "      <th>GL_Account</th>\n",
       "      <th>Amount</th>\n",
       "    </tr>\n",
       "  </thead>\n",
       "  <tbody>\n",
       "    <tr>\n",
       "      <th>190833</th>\n",
       "      <td>9998</td>\n",
       "      <td>3620</td>\n",
       "      <td>-0.090918</td>\n",
       "    </tr>\n",
       "    <tr>\n",
       "      <th>190834</th>\n",
       "      <td>9998</td>\n",
       "      <td>6210</td>\n",
       "      <td>-0.909082</td>\n",
       "    </tr>\n",
       "    <tr>\n",
       "      <th>190835</th>\n",
       "      <td>9999</td>\n",
       "      <td>1310</td>\n",
       "      <td>1.000000</td>\n",
       "    </tr>\n",
       "    <tr>\n",
       "      <th>190836</th>\n",
       "      <td>9999</td>\n",
       "      <td>3620</td>\n",
       "      <td>-0.090909</td>\n",
       "    </tr>\n",
       "    <tr>\n",
       "      <th>190837</th>\n",
       "      <td>9999</td>\n",
       "      <td>6210</td>\n",
       "      <td>-0.909091</td>\n",
       "    </tr>\n",
       "  </tbody>\n",
       "</table>\n",
       "</div>"
      ],
      "text/plain": [
       "       Journal_ID  GL_Account    Amount\n",
       "190833       9998        3620 -0.090918\n",
       "190834       9998        6210 -0.909082\n",
       "190835       9999        1310  1.000000\n",
       "190836       9999        3620 -0.090909\n",
       "190837       9999        6210 -0.909091"
      ]
     },
     "execution_count": 18,
     "metadata": {
      "tags": []
     },
     "output_type": "execute_result"
    }
   ],
   "source": [
    "#learn.load(base_dir + 'scaled_weights1');\n",
    "learn.load(base_dir + 'scaled_weights2');\n",
    "\n",
    "df_scaled.tail()"
   ]
  },
  {
   "cell_type": "code",
   "execution_count": 0,
   "metadata": {
    "colab": {},
    "colab_type": "code",
    "id": "pqtCouwNJsKu"
   },
   "outputs": [],
   "source": [
    "#?? learn.predict()\n",
    "# the first one is the prediction of the Amount\n",
    "# the second item is the label\n",
    "# the third one is the probability that it's in that category\n",
    "\n",
    "# testing out the predict function\n",
    "#prediction, label, perc = learn.predict(df_scaled.iloc[190736,[0,1]])\n",
    "#float(prediction.data)\n",
    "#float(learn.predict(df_scaled.iloc[190736,[0,1]])[0].data)"
   ]
  },
  {
   "cell_type": "markdown",
   "metadata": {
    "colab_type": "text",
    "id": "TzmZJnIj-hjx"
   },
   "source": [
    "### Custom predictor function"
   ]
  },
  {
   "cell_type": "code",
   "execution_count": 0,
   "metadata": {
    "colab": {},
    "colab_type": "code",
    "id": "r3675ayzJvyN"
   },
   "outputs": [],
   "source": [
    "\n",
    "\"\"\"\n",
    "Author: Zarif\n",
    "custom_predictor() is a way to check the real accuracy of our model\n",
    "returns the predicted amount and the actual amount in that transaction.\n",
    "There is an existing error with the % error calculation, this was fixed in the \n",
    "further functions\n",
    "\"\"\"\n",
    "\n",
    "def custom_predictor1(learn_model, index, df):\n",
    "  \n",
    "  learn.load(learn_model)\n",
    "  \n",
    "  # Getting scaled values\n",
    "  actual_scaled = df.iloc[index, 2]\n",
    "  pred_scaled = float(learn.predict(df.iloc[index,[0,1]])[0].data)\n",
    "  \n",
    "  # Getting the Journal_ID for our specific index\n",
    "  journal_id = df.iloc[index,0]\n",
    "  \n",
    "  # returns a float which is the scaling factor used for that ID\n",
    "  scaling_factor = scaling_dict[journal_id]\n",
    "  \n",
    "  # Getting raw values from the original journal\n",
    "  actual_raw = actual_scaled*scaling_factor\n",
    "  pred_raw = float(pred_scaled)*scaling_factor\n",
    "  \n",
    "  \n",
    "  sys.stdout.flush()\n",
    "  \n",
    "  print('Scaled Values')\n",
    "  print(\"Actual Amount:    {0:.9f}\".format(actual_scaled))\n",
    "  print('Predicted Amount: {0:.9f}'.format(pred_scaled))\n",
    "  \n",
    "  print(\"\\n\\nRaw Values\\nActual Amount:    ${0:.2f}\".format(actual_raw))\n",
    "  print(\"Predicted Amount: ${0:.2f}\".format(pred_raw))\n",
    "  \n",
    "  error = (actual_raw - pred_raw)/actual_raw*100 \n",
    "  \n",
    "  print(\"Percentage error: {0:.2f}%\".format(error))"
   ]
  },
  {
   "cell_type": "code",
   "execution_count": 1,
   "metadata": {
    "colab": {
     "base_uri": "https://localhost:8080/",
     "height": 214
    },
    "colab_type": "code",
    "executionInfo": {
     "elapsed": 1789,
     "status": "error",
     "timestamp": 1550184382330,
     "user": {
      "displayName": "Zarif Aziz",
      "photoUrl": "https://lh3.googleusercontent.com/-yUhAF-OOVNQ/AAAAAAAAAAI/AAAAAAAAYZg/kakF3Ikz5xY/s64/photo.jpg",
      "userId": "08390252974221689885"
     },
     "user_tz": -660
    },
    "id": "XXlF-YDBJzT-",
    "outputId": "7a2fdec6-7647-449c-d890-c6a00bff569f"
   },
   "outputs": [
    {
     "ename": "NameError",
     "evalue": "ignored",
     "output_type": "error",
     "traceback": [
      "\u001b[0;31m---------------------------------------------------------------------------\u001b[0m",
      "\u001b[0;31mNameError\u001b[0m                                 Traceback (most recent call last)",
      "\u001b[0;32m<ipython-input-1-cc999e72e14f>\u001b[0m in \u001b[0;36m<module>\u001b[0;34m()\u001b[0m\n\u001b[0;32m----> 1\u001b[0;31m \u001b[0mlearn_model\u001b[0m \u001b[0;34m=\u001b[0m \u001b[0mbase_dir\u001b[0m \u001b[0;34m+\u001b[0m \u001b[0;34m'scaled_weights2'\u001b[0m\u001b[0;34m\u001b[0m\u001b[0;34m\u001b[0m\u001b[0m\n\u001b[0m\u001b[1;32m      2\u001b[0m \u001b[0mline_index\u001b[0m \u001b[0;34m=\u001b[0m \u001b[0;36m373\u001b[0m\u001b[0;34m\u001b[0m\u001b[0;34m\u001b[0m\u001b[0m\n\u001b[1;32m      3\u001b[0m \u001b[0;34m\u001b[0m\u001b[0m\n\u001b[1;32m      4\u001b[0m \u001b[0mcustom_predictor1\u001b[0m\u001b[0;34m(\u001b[0m\u001b[0mlearn_model\u001b[0m\u001b[0;34m,\u001b[0m \u001b[0mline_index\u001b[0m\u001b[0;34m,\u001b[0m \u001b[0mdf_scaled\u001b[0m\u001b[0;34m)\u001b[0m\u001b[0;34m\u001b[0m\u001b[0;34m\u001b[0m\u001b[0m\n",
      "\u001b[0;31mNameError\u001b[0m: name 'base_dir' is not defined"
     ]
    }
   ],
   "source": [
    "# ERROR: for some reason pred_scaled value is being overwritten\n",
    "# update: the function works\n",
    "learn_model = base_dir + 'scaled_weights2'\n",
    "line_index = 373\n",
    "\n",
    "custom_predictor1(learn_model, line_index, df_scaled)"
   ]
  },
  {
   "cell_type": "code",
   "execution_count": 0,
   "metadata": {
    "colab": {},
    "colab_type": "code",
    "id": "61ZBJZ3UzcBV"
   },
   "outputs": [],
   "source": [
    "df_scaled.iloc[371,0]"
   ]
  },
  {
   "cell_type": "code",
   "execution_count": 0,
   "metadata": {
    "colab": {},
    "colab_type": "code",
    "id": "bCnOpWJ61ysw"
   },
   "outputs": [],
   "source": [
    "df_scaled[df_scaled.Journal_ID == '3456']"
   ]
  },
  {
   "cell_type": "markdown",
   "metadata": {
    "colab_type": "text",
    "id": "rIi9KHIJ-cfq"
   },
   "source": [
    "## Error calculation"
   ]
  },
  {
   "cell_type": "code",
   "execution_count": 0,
   "metadata": {
    "colab": {},
    "colab_type": "code",
    "id": "r_hlQPSERSsm"
   },
   "outputs": [],
   "source": [
    "\"\"\"\n",
    "Author : Zarif\n",
    "returns the absolute percentage error of prediction value compared to real value\n",
    "Basically a simpler version of the custom_predictor fn that has only 1 outptut\n",
    "this function needs to be made for efficient\n",
    "\"\"\"\n",
    "def error_calculator(index, df):\n",
    "  #learn.load(learn_model)\n",
    "  \n",
    "  # Getting scaled values\n",
    "  actual_scaled = df.iloc[index, 2]\n",
    "  pred_scaled = float(learn.predict(df.iloc[index,[0,1]])[0].data)\n",
    "  #pred_scaled = 2\n",
    "  \n",
    "  # Getting the Journal_ID for our specific index\n",
    "  journal_id = df.iloc[index,0]\n",
    "  \n",
    "  # returns a float which is the scaling factor used for that ID\n",
    "  scaling_factor = scaling_dict[journal_id]\n",
    "  \n",
    "  # Getting raw values from the original journal\n",
    "  actual_raw = actual_scaled*scaling_factor\n",
    "  pred_raw = float(pred_scaled)*scaling_factor\n",
    "  \n",
    "  # Calculating error using a special method\n",
    "  # the if condition accounts for the fact that both actual and pred values are \n",
    "  # 0 so error should be 0 instead of 'nan'\n",
    "  error = 0 if (actual_raw == pred_raw == 0) else (actual_raw - pred_raw)/((abs(pred_raw)+abs(actual_raw))/2) \n",
    "  \n",
    "  return error"
   ]
  },
  {
   "cell_type": "code",
   "execution_count": 0,
   "metadata": {
    "colab": {},
    "colab_type": "code",
    "id": "dOJ1wTEYTIHQ"
   },
   "outputs": [],
   "source": [
    "# error_array = df_scaled.apply(lambda row: error_calculator(learn_model, row, df_scaled), axis=1)\n",
    "\n",
    "error_calculator(359, df_scaled)"
   ]
  },
  {
   "cell_type": "code",
   "execution_count": 0,
   "metadata": {
    "colab": {},
    "colab_type": "code",
    "id": "mr2VmQfTWctT"
   },
   "outputs": [],
   "source": [
    "df_scaled.tail(5)"
   ]
  },
  {
   "cell_type": "code",
   "execution_count": 0,
   "metadata": {
    "colab": {},
    "colab_type": "code",
    "id": "OQM1JBBhtTEF"
   },
   "outputs": [],
   "source": [
    "# Takes a long time to run\n",
    "# ran at 11:37 and ended around 12:20 - so around 40 mins\n",
    "\n",
    "error_array = []\n",
    "\n",
    "for i in range(0,190838):\n",
    "  error_array.append(error_calculator(i, df_scaled))"
   ]
  },
  {
   "cell_type": "code",
   "execution_count": 0,
   "metadata": {
    "colab": {},
    "colab_type": "code",
    "id": "Cbf-9Q3AtWEF"
   },
   "outputs": [],
   "source": [
    "# Turning our error_array into a dataset\n",
    "# Checking the tail end of the dataset to make sure the correct number of rows are present\n",
    "\n",
    "error_dataset1 = pd.DataFrame({'Errors':error_array[:]})\n",
    "error_dataset1.tail()"
   ]
  },
  {
   "cell_type": "code",
   "execution_count": 0,
   "metadata": {
    "colab": {},
    "colab_type": "code",
    "id": "vzaaSHZL_j36"
   },
   "outputs": [],
   "source": [
    "error_dataset1.info()"
   ]
  },
  {
   "cell_type": "code",
   "execution_count": 0,
   "metadata": {
    "colab": {
     "base_uri": "https://localhost:8080/",
     "height": 197
    },
    "colab_type": "code",
    "executionInfo": {
     "elapsed": 965,
     "status": "error",
     "timestamp": 1550030007066,
     "user": {
      "displayName": "Zarif Aziz",
      "photoUrl": "https://lh3.googleusercontent.com/-yUhAF-OOVNQ/AAAAAAAAAAI/AAAAAAAAYZg/kakF3Ikz5xY/s64/photo.jpg",
      "userId": "08390252974221689885"
     },
     "user_tz": -660
    },
    "id": "VhuQQ4gsAThH",
    "outputId": "66084b55-5fdb-4d2e-a423-3574576b4406"
   },
   "outputs": [
    {
     "ename": "NameError",
     "evalue": "ignored",
     "output_type": "error",
     "traceback": [
      "\u001b[0;31m---------------------------------------------------------------------------\u001b[0m",
      "\u001b[0;31mNameError\u001b[0m                                 Traceback (most recent call last)",
      "\u001b[0;32m<ipython-input-45-eca9d340864a>\u001b[0m in \u001b[0;36m<module>\u001b[0;34m()\u001b[0m\n\u001b[1;32m      1\u001b[0m \u001b[0;34m\u001b[0m\u001b[0m\n\u001b[0;32m----> 2\u001b[0;31m \u001b[0merror_dataset1\u001b[0m\u001b[0;34m.\u001b[0m\u001b[0mto_csv\u001b[0m\u001b[0;34m(\u001b[0m\u001b[0mpath_or_buf\u001b[0m \u001b[0;34m=\u001b[0m \u001b[0mbase_dir\u001b[0m \u001b[0;34m+\u001b[0m \u001b[0;34m'error_dataset5.csv'\u001b[0m\u001b[0;34m)\u001b[0m\u001b[0;34m\u001b[0m\u001b[0;34m\u001b[0m\u001b[0m\n\u001b[0m\u001b[1;32m      3\u001b[0m \u001b[0merror_dataset1\u001b[0m\u001b[0;34m.\u001b[0m\u001b[0mhist\u001b[0m\u001b[0;34m(\u001b[0m\u001b[0mbins\u001b[0m\u001b[0;34m=\u001b[0m\u001b[0;36m100\u001b[0m\u001b[0;34m)\u001b[0m\u001b[0;34m\u001b[0m\u001b[0;34m\u001b[0m\u001b[0m\n",
      "\u001b[0;31mNameError\u001b[0m: name 'error_dataset1' is not defined"
     ]
    }
   ],
   "source": [
    "# Error log:\n",
    "# Error_dataset1 and 2 had the previous method of calculating errors which gave us inf values when dividing by $0\n",
    "# Error_dataset3 is calculated using the new method but still has some missing values. The issue was found to be: 0/0 = nan\n",
    "# Error_dataset4 is calculated after turning nan values into 0\n",
    "\n",
    "error_dataset1.to_csv(path_or_buf = base_dir + 'error_dataset5.csv')\n",
    "error_dataset1.hist(bins=100)"
   ]
  },
  {
   "cell_type": "code",
   "execution_count": 0,
   "metadata": {
    "colab": {},
    "colab_type": "code",
    "id": "qGRuY_HbA2o2"
   },
   "outputs": [],
   "source": [
    "# This is the screenshot of the first error histogram\n",
    "img = cv2.imread(\"error_hist_1.PNG\")\n",
    "img_cvt=cv2.cvtColor(img, cv2.COLOR_BGR2RGB)\n",
    "plt.imshow(img_cvt)\n",
    "plt.show()"
   ]
  },
  {
   "cell_type": "code",
   "execution_count": 0,
   "metadata": {
    "colab": {},
    "colab_type": "code",
    "id": "S3m7PAtqeTwS"
   },
   "outputs": [],
   "source": [
    "# This is the screenshot of the second error histogram - much better performance\n",
    "img = cv2.imread(\"error_hist_2.PNG\")\n",
    "img_cvt=cv2.cvtColor(img, cv2.COLOR_BGR2RGB)\n",
    "plt.imshow(img_cvt)\n",
    "plt.show()"
   ]
  },
  {
   "cell_type": "markdown",
   "metadata": {
    "colab_type": "text",
    "id": "KUZPsALlzmni"
   },
   "source": [
    "## Error distribution and Accuracy"
   ]
  },
  {
   "cell_type": "code",
   "execution_count": 0,
   "metadata": {
    "colab": {},
    "colab_type": "code",
    "id": "V8hBfr98eg0m"
   },
   "outputs": [],
   "source": [
    "def error_distribution(df):\n",
    "  \n",
    "  total_length = len(df.index)\n",
    "  one_perc = five_perc = ten_perc = fifteen_perc = twenty_perc = thirty_perc \\\n",
    "    = fourty_perc = fifty_perc = over_fifty = 0\n",
    "  \n",
    "  for index, row in df.iterrows():\n",
    "    value = abs(row['Errors'])\n",
    "    \n",
    "    if value <= 0.01:\n",
    "      one_perc += 1\n",
    "      five_perc += 1\n",
    "      ten_perc += 1\n",
    "      fifteen_perc += 1\n",
    "      twenty_perc += 1\n",
    "      thirty_perc += 1\n",
    "      fourty_perc += 1\n",
    "      fifty_perc += 1\n",
    "    elif value <= 0.05:\n",
    "      five_perc += 1\n",
    "      ten_perc += 1\n",
    "      fifteen_perc += 1\n",
    "      twenty_perc += 1\n",
    "      thirty_perc += 1\n",
    "      fourty_perc += 1\n",
    "      fifty_perc += 1      \n",
    "    elif value <= 0.1:\n",
    "      ten_perc += 1\n",
    "      fifteen_perc += 1\n",
    "      twenty_perc += 1\n",
    "      thirty_perc += 1\n",
    "      fourty_perc += 1\n",
    "      fifty_perc += 1\n",
    "    elif value <= 0.15:\n",
    "      fifteen_perc += 1\n",
    "      twenty_perc += 1\n",
    "      thirty_perc += 1\n",
    "      fourty_perc += 1\n",
    "      fifty_perc += 1\n",
    "    elif value <= 0.2:\n",
    "      twenty_perc += 1\n",
    "      thirty_perc += 1\n",
    "      fourty_perc += 1\n",
    "      fifty_perc += 1\n",
    "    elif value <= 0.3:\n",
    "      thirty_perc += 1\n",
    "      fourty_perc += 1\n",
    "      fifty_perc += 1\n",
    "    elif value <= 0.4:\n",
    "      fourty_perc += 1\n",
    "      fifty_perc += 1\n",
    "    elif value <= 0.5:\n",
    "      fifty_perc += 1\n",
    "    else:\n",
    "      over_fifty += 1\n",
    "      \n",
    "  print(\"Sub   1%: {0:.2f}%\".format(one_perc/total_length*100))\n",
    "  print(\"Sub   5%: {0:.2f}%\".format(five_perc/total_length*100))\n",
    "  print(\"Sub  10%: {0:.2f}%\".format(ten_perc/total_length*100))\n",
    "  print(\"Sub  15%: {0:.2f}%\".format(fifteen_perc/total_length*100))\n",
    "  print(\"Sub  20%: {0:.2f}%\".format(twenty_perc/total_length*100))\n",
    "  print(\"Sub  30%: {0:.2f}%\".format(thirty_perc/total_length*100))\n",
    "  print(\"Sub  40%: {0:.2f}%\".format(fourty_perc/total_length*100))\n",
    "  print(\"Sub  50%: {0:.2f}%\".format(fifty_perc/total_length*100))\n",
    "  print(\"Over 50%: {0:.2f}%\".format(over_fifty/total_length*100))"
   ]
  },
  {
   "cell_type": "code",
   "execution_count": 0,
   "metadata": {
    "colab": {},
    "colab_type": "code",
    "id": "heIzuhR-nFEz"
   },
   "outputs": [],
   "source": [
    "error_distribution(error_dataset1)"
   ]
  },
  {
   "cell_type": "code",
   "execution_count": 0,
   "metadata": {
    "colab": {},
    "colab_type": "code",
    "id": "2cdZhgxnnIry"
   },
   "outputs": [],
   "source": [
    "learn.show_results()"
   ]
  },
  {
   "cell_type": "code",
   "execution_count": 0,
   "metadata": {
    "colab": {},
    "colab_type": "code",
    "id": "EwEj0c5l74S-"
   },
   "outputs": [],
   "source": []
  },
  {
   "cell_type": "markdown",
   "metadata": {
    "colab_type": "text",
    "id": "Ru_HQvWO8xkN"
   },
   "source": [
    "# Getting embedding matrix for Journal IDs"
   ]
  },
  {
   "cell_type": "markdown",
   "metadata": {
    "colab_type": "text",
    "id": "uJgT8eOb8643"
   },
   "source": [
    "Once we are satisfied with the accuracy of our model, the final step is to extract the embedding vectors for each Journal ID. The embedding vector for every ID is the end goal of this notebook, as this is the vector that represents the transactions for that Journal ID in a vector space."
   ]
  },
  {
   "cell_type": "code",
   "execution_count": 0,
   "metadata": {
    "colab": {},
    "colab_type": "code",
    "id": "w6D5ZirU82mu"
   },
   "outputs": [],
   "source": [
    "# User_weights = Journal_ID weights \n",
    "\n",
    "embedding = learn.model.u_weight\n",
    "embedding\n"
   ]
  },
  {
   "cell_type": "code",
   "execution_count": 0,
   "metadata": {
    "colab": {},
    "colab_type": "code",
    "id": "7GFcgLaQ85R7"
   },
   "outputs": [],
   "source": [
    "# a batch of 2 samples of 4 indices each\n",
    "#input = torch.LongTensor([[1,2,4,5],[4,3,2,9]]\n",
    "length_of_embedding = 64382\n",
    "\n",
    "embedding_list = list(range(0, 64382))\n",
    "input = torch.cuda.LongTensor(embedding_list)\n",
    "\n",
    "tensor_array = embedding(input)\n",
    "#width_of_embedding = len(tensor_array.cpu().detach().numpy()[0])\n",
    "tensor_array.cpu().detach().numpy()"
   ]
  },
  {
   "cell_type": "markdown",
   "metadata": {
    "colab_type": "text",
    "id": "5nuL0JnBiGEW"
   },
   "source": [
    "# Trying to extract Validation dataset"
   ]
  },
  {
   "cell_type": "markdown",
   "metadata": {
    "colab_type": "text",
    "id": "1ffWZiDjBo9V"
   },
   "source": [
    "We need to do this so that we can run our error_calculator() only over the validation dataset and not the entire dataset as a whole. Basing our error distribution on the entire dataset will give us a misleading statistic as the model has been trained on 80-90% of that dataset in the first place.\n",
    "\n",
    "Findings:\n",
    "- 'Dumb' way of extracting the valid_ds has been found. Where you iterrate over all the rows of the LabelList item and get() each value and store it into array. Smart way has yet to be found.\n",
    "- scaled_data.valid_ds.get().data[] returns a tensor object which seems to be index of the data point and not the actual data\n",
    "- scaled_data.valid_ds.get(5).classes returns an OrderedDict item which contains an ordered array of every Journal_ID and every GL_Account.\n",
    "- structure of the OrderedDict is strange and I couldn't index into it to get a particular data point out. Should be able to do with more time."
   ]
  },
  {
   "cell_type": "code",
   "execution_count": 0,
   "metadata": {
    "colab": {
     "base_uri": "https://localhost:8080/",
     "height": 34
    },
    "colab_type": "code",
    "executionInfo": {
     "elapsed": 1098,
     "status": "ok",
     "timestamp": 1550013174047,
     "user": {
      "displayName": "Zarif Aziz",
      "photoUrl": "https://lh3.googleusercontent.com/-yUhAF-OOVNQ/AAAAAAAAAAI/AAAAAAAAYZg/kakF3Ikz5xY/s64/photo.jpg",
      "userId": "08390252974221689885"
     },
     "user_tz": -660
    },
    "id": "YrUX7wnmiIEq",
    "outputId": "9bc64766-e2ac-477f-9f82-d201051d7512"
   },
   "outputs": [
    {
     "data": {
      "text/plain": [
       "fastai.data_block.LabelList"
      ]
     },
     "execution_count": 23,
     "metadata": {
      "tags": []
     },
     "output_type": "execute_result"
    }
   ],
   "source": [
    "type(scaled_data.valid_ds)"
   ]
  },
  {
   "cell_type": "code",
   "execution_count": 0,
   "metadata": {
    "colab": {
     "base_uri": "https://localhost:8080/",
     "height": 156
    },
    "colab_type": "code",
    "executionInfo": {
     "elapsed": 510,
     "status": "ok",
     "timestamp": 1550013174049,
     "user": {
      "displayName": "Zarif Aziz",
      "photoUrl": "https://lh3.googleusercontent.com/-yUhAF-OOVNQ/AAAAAAAAAAI/AAAAAAAAYZg/kakF3Ikz5xY/s64/photo.jpg",
      "userId": "08390252974221689885"
     },
     "user_tz": -660
    },
    "id": "Vee56UupiOQ5",
    "outputId": "9680f79b-c519-403c-fb07-c4a1d32a242f"
   },
   "outputs": [
    {
     "data": {
      "text/plain": [
       "LabelList\n",
       "y: FloatList (19083 items)\n",
       "[FloatItem -0.9090902, FloatItem -0.0909078, FloatItem -1.0, FloatItem -0.09091207, FloatItem 1.0]...\n",
       "Path: .\n",
       "x: CollabList (19083 items)\n",
       "[CollabLine Journal_ID 49782; GL_Account 6210; , CollabLine Journal_ID 44937; GL_Account 3620; , CollabLine Journal_ID 62701; GL_Account 1310; , CollabLine Journal_ID 22196; GL_Account 3620; , CollabLine Journal_ID 25120; GL_Account 1310; ]...\n",
       "Path: ."
      ]
     },
     "execution_count": 24,
     "metadata": {
      "tags": []
     },
     "output_type": "execute_result"
    }
   ],
   "source": [
    "scaled_data.valid_ds"
   ]
  },
  {
   "cell_type": "code",
   "execution_count": 0,
   "metadata": {
    "colab": {
     "base_uri": "https://localhost:8080/",
     "height": 17034
    },
    "colab_type": "code",
    "executionInfo": {
     "elapsed": 1598,
     "status": "ok",
     "timestamp": 1550013175875,
     "user": {
      "displayName": "Zarif Aziz",
      "photoUrl": "https://lh3.googleusercontent.com/-yUhAF-OOVNQ/AAAAAAAAAAI/AAAAAAAAYZg/kakF3Ikz5xY/s64/photo.jpg",
      "userId": "08390252974221689885"
     },
     "user_tz": -660
    },
    "id": "LBKEXh02iR0L",
    "outputId": "8fc78d9a-2083-49a2-f5e4-e7891ea645c7"
   },
   "outputs": [
    {
     "data": {
      "text/plain": [
       "['Journal_ID 49782; GL_Account 6210; ',\n",
       " 'Journal_ID 44937; GL_Account 3620; ',\n",
       " 'Journal_ID 62701; GL_Account 1310; ',\n",
       " 'Journal_ID 22196; GL_Account 3620; ',\n",
       " 'Journal_ID 25120; GL_Account 1310; ',\n",
       " 'Journal_ID 25138; GL_Account 1310; ',\n",
       " 'Journal_ID 15497; GL_Account 3620; ',\n",
       " 'Journal_ID #na#; GL_Account 1310; ',\n",
       " 'Journal_ID 9628; GL_Account 1310; ',\n",
       " 'Journal_ID 51751; GL_Account 6260; ',\n",
       " 'Journal_ID 18416; GL_Account 3620; ',\n",
       " 'Journal_ID 58395; GL_Account 1281; ',\n",
       " 'Journal_ID 53324; GL_Account 3320; ',\n",
       " 'Journal_ID #na#; GL_Account 1310; ',\n",
       " 'Journal_ID 1061; GL_Account 3485; ',\n",
       " 'Journal_ID 38678; GL_Account 3620; ',\n",
       " 'Journal_ID 36103; GL_Account 1310; ',\n",
       " 'Journal_ID 61700; GL_Account 1281; ',\n",
       " 'Journal_ID 4557; GL_Account 6210; ',\n",
       " 'Journal_ID 48114; GL_Account 6510; ',\n",
       " 'Journal_ID 64204; GL_Account 1281; ',\n",
       " 'Journal_ID 829; GL_Account 3430; ',\n",
       " 'Journal_ID 25968; GL_Account 6210; ',\n",
       " 'Journal_ID 44112; GL_Account 6210; ',\n",
       " 'Journal_ID 33824; GL_Account 3620; ',\n",
       " 'Journal_ID 57733; GL_Account 1310; ',\n",
       " 'Journal_ID 55051; GL_Account 1320; ',\n",
       " 'Journal_ID 58685; GL_Account 1281; ',\n",
       " 'Journal_ID 36431; GL_Account 6210; ',\n",
       " 'Journal_ID 6001; GL_Account 1310; ',\n",
       " 'Journal_ID 46871; GL_Account 6210; ',\n",
       " 'Journal_ID 12665; GL_Account 6210; ',\n",
       " 'Journal_ID 65582; GL_Account 1281; ',\n",
       " 'Journal_ID 7371; GL_Account 3620; ',\n",
       " 'Journal_ID 11168; GL_Account 6210; ',\n",
       " 'Journal_ID 51743; GL_Account 6270; ',\n",
       " 'Journal_ID 3902; GL_Account 8905; ',\n",
       " 'Journal_ID 60803; GL_Account 1281; ',\n",
       " 'Journal_ID 31060; GL_Account 6210; ',\n",
       " 'Journal_ID 16246; GL_Account 3620; ',\n",
       " 'Journal_ID 48107; GL_Account 1310; ',\n",
       " 'Journal_ID 38518; GL_Account 1310; ',\n",
       " 'Journal_ID 60477; GL_Account 1310; ',\n",
       " 'Journal_ID 11591; GL_Account 1310; ',\n",
       " 'Journal_ID 32014; GL_Account 3620; ',\n",
       " 'Journal_ID 3240; GL_Account 3310; ',\n",
       " 'Journal_ID 40064; GL_Account 1310; ',\n",
       " 'Journal_ID 49725; GL_Account 6210; ',\n",
       " 'Journal_ID 9701; GL_Account 3620; ',\n",
       " 'Journal_ID 56584; GL_Account 1294; ',\n",
       " 'Journal_ID 54743; GL_Account 2393; ',\n",
       " 'Journal_ID 43574; GL_Account 6210; ',\n",
       " 'Journal_ID 52066; GL_Account 6560; ',\n",
       " 'Journal_ID 58784; GL_Account 1281; ',\n",
       " 'Journal_ID 53640; GL_Account 2392; ',\n",
       " 'Journal_ID 44042; GL_Account 1310; ',\n",
       " 'Journal_ID 54399; GL_Account 6210; ',\n",
       " 'Journal_ID #na#; GL_Account 1310; ',\n",
       " 'Journal_ID 3955; GL_Account 8325; ',\n",
       " 'Journal_ID 46431; GL_Account 6510; ',\n",
       " 'Journal_ID 50700; GL_Account 1310; ',\n",
       " 'Journal_ID 51761; GL_Account 6275; ',\n",
       " 'Journal_ID 34017; GL_Account 1310; ',\n",
       " 'Journal_ID 31348; GL_Account 1310; ',\n",
       " 'Journal_ID 29848; GL_Account 3620; ',\n",
       " 'Journal_ID 24334; GL_Account 3620; ',\n",
       " 'Journal_ID 3214; GL_Account 1265; ',\n",
       " 'Journal_ID 9196; GL_Account 6210; ',\n",
       " 'Journal_ID 65520; GL_Account 2002; ',\n",
       " 'Journal_ID 6809; GL_Account 3620; ',\n",
       " 'Journal_ID 8004; GL_Account 3620; ',\n",
       " 'Journal_ID 61355; GL_Account 1281; ',\n",
       " 'Journal_ID 22214; GL_Account 1310; ',\n",
       " 'Journal_ID 16329; GL_Account 1310; ',\n",
       " 'Journal_ID 33541; GL_Account 3620; ',\n",
       " 'Journal_ID 51077; GL_Account 6210; ',\n",
       " 'Journal_ID 36499; GL_Account 2393; ',\n",
       " 'Journal_ID 37229; GL_Account 6210; ',\n",
       " 'Journal_ID 38932; GL_Account 3620; ',\n",
       " 'Journal_ID 3210; GL_Account 3310; ',\n",
       " 'Journal_ID 15564; GL_Account 1310; ',\n",
       " 'Journal_ID 37179; GL_Account 1310; ',\n",
       " 'Journal_ID 20304; GL_Account 3620; ',\n",
       " 'Journal_ID 29164; GL_Account 6210; ',\n",
       " 'Journal_ID 22108; GL_Account 6510; ',\n",
       " 'Journal_ID 5090; GL_Account 1310; ',\n",
       " 'Journal_ID 10865; GL_Account 1310; ',\n",
       " 'Journal_ID 34281; GL_Account 1310; ',\n",
       " 'Journal_ID 54635; GL_Account 3620; ',\n",
       " 'Journal_ID 34882; GL_Account 3620; ',\n",
       " 'Journal_ID 51884; GL_Account 6260; ',\n",
       " 'Journal_ID 34529; GL_Account 3620; ',\n",
       " 'Journal_ID 31043; GL_Account 1310; ',\n",
       " 'Journal_ID 63395; GL_Account 1310; ',\n",
       " 'Journal_ID 26032; GL_Account 7935; ',\n",
       " 'Journal_ID 58875; GL_Account 1310; ',\n",
       " 'Journal_ID 38183; GL_Account 1310; ',\n",
       " 'Journal_ID 47315; GL_Account 3620; ',\n",
       " 'Journal_ID 52271; GL_Account 3320; ',\n",
       " 'Journal_ID 29659; GL_Account 1310; ',\n",
       " 'Journal_ID 18402; GL_Account 1310; ',\n",
       " 'Journal_ID 1153; GL_Account 8950; ',\n",
       " 'Journal_ID 30292; GL_Account 1310; ',\n",
       " 'Journal_ID 5926; GL_Account 1310; ',\n",
       " 'Journal_ID #na#; GL_Account 1310; ',\n",
       " 'Journal_ID 13341; GL_Account 1310; ',\n",
       " 'Journal_ID 27225; GL_Account 1310; ',\n",
       " 'Journal_ID 29218; GL_Account 6210; ',\n",
       " 'Journal_ID 65116; GL_Account 1294; ',\n",
       " 'Journal_ID 62810; GL_Account 1281; ',\n",
       " 'Journal_ID 49426; GL_Account 7935; ',\n",
       " 'Journal_ID 10534; GL_Account 6210; ',\n",
       " 'Journal_ID 8792; GL_Account 7910; ',\n",
       " 'Journal_ID 58864; GL_Account 1310; ',\n",
       " 'Journal_ID 38737; GL_Account 7910; ',\n",
       " 'Journal_ID 11584; GL_Account 1310; ',\n",
       " 'Journal_ID 14516; GL_Account 1310; ',\n",
       " 'Journal_ID 61858; GL_Account 1310; ',\n",
       " 'Journal_ID 51749; GL_Account 6280; ',\n",
       " 'Journal_ID 37646; GL_Account 3620; ',\n",
       " 'Journal_ID 19819; GL_Account 6210; ',\n",
       " 'Journal_ID 41744; GL_Account 3620; ',\n",
       " 'Journal_ID 26272; GL_Account 1310; ',\n",
       " 'Journal_ID 38919; GL_Account 3620; ',\n",
       " 'Journal_ID 3712; GL_Account 3410; ',\n",
       " 'Journal_ID #na#; GL_Account 1310; ',\n",
       " 'Journal_ID 28593; GL_Account 3620; ',\n",
       " 'Journal_ID 9620; GL_Account 1310; ',\n",
       " 'Journal_ID 62820; GL_Account 1281; ',\n",
       " 'Journal_ID 24401; GL_Account 1310; ',\n",
       " 'Journal_ID 47874; GL_Account 3620; ',\n",
       " 'Journal_ID 35419; GL_Account 3620; ',\n",
       " 'Journal_ID 53042; GL_Account 9030; ',\n",
       " 'Journal_ID 7118; GL_Account 6210; ',\n",
       " 'Journal_ID 43541; GL_Account 6210; ',\n",
       " 'Journal_ID 25767; GL_Account 1310; ',\n",
       " 'Journal_ID 40776; GL_Account 3620; ',\n",
       " 'Journal_ID 31614; GL_Account 6210; ',\n",
       " 'Journal_ID 11628; GL_Account 6510; ',\n",
       " 'Journal_ID 12754; GL_Account 6210; ',\n",
       " 'Journal_ID 49956; GL_Account 3620; ',\n",
       " 'Journal_ID 29347; GL_Account 3620; ',\n",
       " 'Journal_ID 30982; GL_Account 6510; ',\n",
       " 'Journal_ID 41461; GL_Account 3620; ',\n",
       " 'Journal_ID 64353; GL_Account 1281; ',\n",
       " 'Journal_ID 794; GL_Account 1265; ',\n",
       " 'Journal_ID 6306; GL_Account 1310; ',\n",
       " 'Journal_ID 62445; GL_Account 1281; ',\n",
       " 'Journal_ID 47199; GL_Account 1310; ',\n",
       " 'Journal_ID 49745; GL_Account 1310; ',\n",
       " 'Journal_ID 65354; GL_Account 1310; ',\n",
       " 'Journal_ID #na#; GL_Account 3320; ',\n",
       " 'Journal_ID 37915; GL_Account 3620; ',\n",
       " 'Journal_ID 14131; GL_Account 6210; ',\n",
       " 'Journal_ID 48572; GL_Account 6210; ',\n",
       " 'Journal_ID 50066; GL_Account 3620; ',\n",
       " 'Journal_ID 34092; GL_Account 1310; ',\n",
       " 'Journal_ID 42718; GL_Account 6210; ',\n",
       " 'Journal_ID 31870; GL_Account 1310; ',\n",
       " 'Journal_ID 62728; GL_Account 1281; ',\n",
       " 'Journal_ID 59066; GL_Account 1281; ',\n",
       " 'Journal_ID 46153; GL_Account 6210; ',\n",
       " 'Journal_ID 49718; GL_Account 6210; ',\n",
       " 'Journal_ID 64302; GL_Account 1281; ',\n",
       " 'Journal_ID 7926; GL_Account 3620; ',\n",
       " 'Journal_ID 43557; GL_Account 1310; ',\n",
       " 'Journal_ID 32571; GL_Account 1310; ',\n",
       " 'Journal_ID 31131; GL_Account 6710; ',\n",
       " 'Journal_ID #na#; GL_Account 1281; ',\n",
       " 'Journal_ID 36324; GL_Account 3620; ',\n",
       " 'Journal_ID 57525; GL_Account 1310; ',\n",
       " 'Journal_ID 38632; GL_Account 3620; ',\n",
       " 'Journal_ID 52347; GL_Account 3630; ',\n",
       " 'Journal_ID 22595; GL_Account 1310; ',\n",
       " 'Journal_ID 54460; GL_Account 6210; ',\n",
       " 'Journal_ID 3619; GL_Account 9255; ',\n",
       " 'Journal_ID 4581; GL_Account 2393; ',\n",
       " 'Journal_ID 36218; GL_Account 1310; ',\n",
       " 'Journal_ID 25530; GL_Account 6210; ',\n",
       " 'Journal_ID 23750; GL_Account 1310; ',\n",
       " 'Journal_ID 45149; GL_Account 3620; ',\n",
       " 'Journal_ID 53039; GL_Account 3630; ',\n",
       " 'Journal_ID 8289; GL_Account 3620; ',\n",
       " 'Journal_ID 12931; GL_Account 3620; ',\n",
       " 'Journal_ID 44401; GL_Account 1310; ',\n",
       " 'Journal_ID 42882; GL_Account 3620; ',\n",
       " 'Journal_ID 12345; GL_Account 1310; ',\n",
       " 'Journal_ID 53986; GL_Account 3320; ',\n",
       " 'Journal_ID 63522; GL_Account 1281; ',\n",
       " 'Journal_ID 4703; GL_Account 6210; ',\n",
       " 'Journal_ID 16551; GL_Account 6210; ',\n",
       " 'Journal_ID 47915; GL_Account 6210; ',\n",
       " 'Journal_ID 55894; GL_Account 1281; ',\n",
       " 'Journal_ID 51962; GL_Account 6260; ',\n",
       " 'Journal_ID 14394; GL_Account 1310; ',\n",
       " 'Journal_ID 21495; GL_Account 3620; ',\n",
       " 'Journal_ID 40917; GL_Account 3620; ',\n",
       " 'Journal_ID 4164; GL_Account 2392; ',\n",
       " 'Journal_ID 25544; GL_Account 1310; ',\n",
       " 'Journal_ID 40329; GL_Account 3620; ',\n",
       " 'Journal_ID 57883; GL_Account 1281; ',\n",
       " 'Journal_ID 29402; GL_Account 3620; ',\n",
       " 'Journal_ID 41453; GL_Account 6210; ',\n",
       " 'Journal_ID #na#; GL_Account 1310; ',\n",
       " 'Journal_ID 54355; GL_Account 3620; ',\n",
       " 'Journal_ID 27565; GL_Account 3620; ',\n",
       " 'Journal_ID 16337; GL_Account 6210; ',\n",
       " 'Journal_ID 28602; GL_Account 3620; ',\n",
       " 'Journal_ID 40669; GL_Account 3620; ',\n",
       " 'Journal_ID 6332; GL_Account 3620; ',\n",
       " 'Journal_ID 14850; GL_Account 1310; ',\n",
       " 'Journal_ID 63713; GL_Account 1310; ',\n",
       " 'Journal_ID 52936; GL_Account 3630; ',\n",
       " 'Journal_ID 35217; GL_Account 6710; ',\n",
       " 'Journal_ID 26899; GL_Account 3620; ',\n",
       " 'Journal_ID 7242; GL_Account 6210; ',\n",
       " 'Journal_ID 34025; GL_Account 6210; ',\n",
       " 'Journal_ID 36241; GL_Account 3620; ',\n",
       " 'Journal_ID 3950; GL_Account 8325; ',\n",
       " 'Journal_ID 26178; GL_Account 1310; ',\n",
       " 'Journal_ID 19431; GL_Account 6210; ',\n",
       " 'Journal_ID #na#; GL_Account 1281; ',\n",
       " 'Journal_ID 11497; GL_Account 6210; ',\n",
       " 'Journal_ID 51625; GL_Account 6275; ',\n",
       " 'Journal_ID 65299; GL_Account 1281; ',\n",
       " 'Journal_ID 6907; GL_Account 6210; ',\n",
       " 'Journal_ID 18027; GL_Account 1310; ',\n",
       " 'Journal_ID 33048; GL_Account 1310; ',\n",
       " 'Journal_ID 3022; GL_Account 3310; ',\n",
       " 'Journal_ID 55881; GL_Account 1281; ',\n",
       " 'Journal_ID 48117; GL_Account 6210; ',\n",
       " 'Journal_ID 12309; GL_Account 7910; ',\n",
       " 'Journal_ID 29174; GL_Account 6510; ',\n",
       " 'Journal_ID 34558; GL_Account 3620; ',\n",
       " 'Journal_ID 54975; GL_Account 9250; ',\n",
       " 'Journal_ID 39993; GL_Account 3620; ',\n",
       " 'Journal_ID 29334; GL_Account 1310; ',\n",
       " 'Journal_ID 21611; GL_Account 6710; ',\n",
       " 'Journal_ID 12154; GL_Account 6210; ',\n",
       " 'Journal_ID 28019; GL_Account 3620; ',\n",
       " 'Journal_ID 7770; GL_Account 6210; ',\n",
       " 'Journal_ID 43354; GL_Account 6210; ',\n",
       " 'Journal_ID 58287; GL_Account 1281; ',\n",
       " 'Journal_ID 38337; GL_Account 6210; ',\n",
       " 'Journal_ID 47263; GL_Account 1310; ',\n",
       " 'Journal_ID 48822; GL_Account 1310; ',\n",
       " 'Journal_ID 49261; GL_Account 3620; ',\n",
       " 'Journal_ID 5688; GL_Account 1310; ',\n",
       " 'Journal_ID 8637; GL_Account 1310; ',\n",
       " 'Journal_ID 64365; GL_Account 1281; ',\n",
       " 'Journal_ID 30170; GL_Account 1310; ',\n",
       " 'Journal_ID 16989; GL_Account 1310; ',\n",
       " 'Journal_ID 39116; GL_Account 6210; ',\n",
       " 'Journal_ID 46587; GL_Account 6210; ',\n",
       " 'Journal_ID 711; GL_Account 1281; ',\n",
       " 'Journal_ID 23428; GL_Account 6210; ',\n",
       " 'Journal_ID 46287; GL_Account 3620; ',\n",
       " 'Journal_ID 58826; GL_Account 1281; ',\n",
       " 'Journal_ID 14271; GL_Account 3620; ',\n",
       " 'Journal_ID 63843; GL_Account 1310; ',\n",
       " 'Journal_ID 9944; GL_Account 3620; ',\n",
       " 'Journal_ID 48594; GL_Account 6210; ',\n",
       " 'Journal_ID 51274; GL_Account 3620; ',\n",
       " 'Journal_ID 11486; GL_Account 3620; ',\n",
       " 'Journal_ID 19454; GL_Account 3620; ',\n",
       " 'Journal_ID 32078; GL_Account 3620; ',\n",
       " 'Journal_ID 39711; GL_Account 6210; ',\n",
       " 'Journal_ID 36587; GL_Account 1310; ',\n",
       " 'Journal_ID 11749; GL_Account 3620; ',\n",
       " 'Journal_ID 16482; GL_Account 6510; ',\n",
       " 'Journal_ID 55126; GL_Account 9205; ',\n",
       " 'Journal_ID 22053; GL_Account 6710; ',\n",
       " 'Journal_ID 49675; GL_Account 3620; ',\n",
       " 'Journal_ID 27365; GL_Account 3620; ',\n",
       " 'Journal_ID 16750; GL_Account 3620; ',\n",
       " 'Journal_ID 41001; GL_Account 3620; ',\n",
       " 'Journal_ID 51102; GL_Account 6210; ',\n",
       " 'Journal_ID 15078; GL_Account 3620; ',\n",
       " 'Journal_ID 34156; GL_Account 1310; ',\n",
       " 'Journal_ID 4432; GL_Account 3620; ',\n",
       " 'Journal_ID 17734; GL_Account 6210; ',\n",
       " 'Journal_ID 9021; GL_Account 6210; ',\n",
       " 'Journal_ID 18427; GL_Account 6210; ',\n",
       " 'Journal_ID 46581; GL_Account 6210; ',\n",
       " 'Journal_ID 11039; GL_Account 1310; ',\n",
       " 'Journal_ID 29270; GL_Account 1310; ',\n",
       " 'Journal_ID 44114; GL_Account 1310; ',\n",
       " 'Journal_ID 45100; GL_Account 6210; ',\n",
       " 'Journal_ID 63547; GL_Account 1281; ',\n",
       " 'Journal_ID 5918; GL_Account 1310; ',\n",
       " 'Journal_ID 38702; GL_Account 6210; ',\n",
       " 'Journal_ID 55535; GL_Account 1294; ',\n",
       " 'Journal_ID 14674; GL_Account 3620; ',\n",
       " 'Journal_ID 41765; GL_Account 3620; ',\n",
       " 'Journal_ID 58536; GL_Account 1310; ',\n",
       " 'Journal_ID 24713; GL_Account 3620; ',\n",
       " 'Journal_ID 59957; GL_Account 1310; ',\n",
       " 'Journal_ID 21397; GL_Account 3620; ',\n",
       " 'Journal_ID 8094; GL_Account 6210; ',\n",
       " 'Journal_ID 38807; GL_Account 1310; ',\n",
       " 'Journal_ID 28105; GL_Account 6210; ',\n",
       " 'Journal_ID 22565; GL_Account 1310; ',\n",
       " 'Journal_ID 33113; GL_Account 1310; ',\n",
       " 'Journal_ID 4612; GL_Account 1310; ',\n",
       " 'Journal_ID 19303; GL_Account 1310; ',\n",
       " 'Journal_ID 27010; GL_Account 6210; ',\n",
       " 'Journal_ID 9872; GL_Account 3620; ',\n",
       " 'Journal_ID 14601; GL_Account 1310; ',\n",
       " 'Journal_ID 3775; GL_Account 3320; ',\n",
       " 'Journal_ID 38051; GL_Account 6210; ',\n",
       " 'Journal_ID 21673; GL_Account 6210; ',\n",
       " 'Journal_ID 11901; GL_Account 6210; ',\n",
       " 'Journal_ID 22027; GL_Account 6510; ',\n",
       " 'Journal_ID 7936; GL_Account 1310; ',\n",
       " 'Journal_ID 29503; GL_Account 3620; ',\n",
       " 'Journal_ID 58160; GL_Account 1310; ',\n",
       " 'Journal_ID 22367; GL_Account 1310; ',\n",
       " 'Journal_ID 44081; GL_Account 1310; ',\n",
       " 'Journal_ID #na#; GL_Account 1310; ',\n",
       " 'Journal_ID 51792; GL_Account 6275; ',\n",
       " 'Journal_ID 29395; GL_Account 6710; ',\n",
       " 'Journal_ID 51039; GL_Account 3620; ',\n",
       " 'Journal_ID #na#; GL_Account 1310; ',\n",
       " 'Journal_ID 27109; GL_Account 3620; ',\n",
       " 'Journal_ID 22919; GL_Account 6210; ',\n",
       " 'Journal_ID 23256; GL_Account 6210; ',\n",
       " 'Journal_ID 11906; GL_Account 6210; ',\n",
       " 'Journal_ID 27369; GL_Account 6210; ',\n",
       " 'Journal_ID 38720; GL_Account 1310; ',\n",
       " 'Journal_ID 29807; GL_Account 3620; ',\n",
       " 'Journal_ID 9821; GL_Account 1310; ',\n",
       " 'Journal_ID 18887; GL_Account 6210; ',\n",
       " 'Journal_ID 52789; GL_Account 8850; ',\n",
       " 'Journal_ID 65306; GL_Account 1294; ',\n",
       " 'Journal_ID 59893; GL_Account 1310; ',\n",
       " 'Journal_ID 16669; GL_Account 6210; ',\n",
       " 'Journal_ID 37717; GL_Account 6210; ',\n",
       " 'Journal_ID 7501; GL_Account 1310; ',\n",
       " 'Journal_ID 17750; GL_Account 3620; ',\n",
       " 'Journal_ID 15654; GL_Account 3620; ',\n",
       " 'Journal_ID 19640; GL_Account 1310; ',\n",
       " 'Journal_ID 46314; GL_Account 3620; ',\n",
       " 'Journal_ID 17826; GL_Account 6210; ',\n",
       " 'Journal_ID 58883; GL_Account 1310; ',\n",
       " 'Journal_ID 13814; GL_Account 3620; ',\n",
       " 'Journal_ID 253; GL_Account 8385; ',\n",
       " 'Journal_ID 29698; GL_Account 3620; ',\n",
       " 'Journal_ID 55582; GL_Account 1294; ',\n",
       " 'Journal_ID 11354; GL_Account 6210; ',\n",
       " 'Journal_ID 189; GL_Account 6260; ',\n",
       " 'Journal_ID 54250; GL_Account 9010; ',\n",
       " 'Journal_ID 13459; GL_Account 6510; ',\n",
       " 'Journal_ID 36408; GL_Account 3620; ',\n",
       " 'Journal_ID 24854; GL_Account 1310; ',\n",
       " 'Journal_ID 19590; GL_Account 7910; ',\n",
       " 'Journal_ID 28472; GL_Account 3620; ',\n",
       " 'Journal_ID 31774; GL_Account 6210; ',\n",
       " 'Journal_ID 24248; GL_Account 1310; ',\n",
       " 'Journal_ID 65444; GL_Account 2011; ',\n",
       " 'Journal_ID 60634; GL_Account 1281; ',\n",
       " 'Journal_ID 25326; GL_Account 1310; ',\n",
       " 'Journal_ID 52071; GL_Account 3430; ',\n",
       " 'Journal_ID #na#; GL_Account 1310; ',\n",
       " 'Journal_ID 12546; GL_Account 3620; ',\n",
       " 'Journal_ID 29615; GL_Account 6210; ',\n",
       " 'Journal_ID 50171; GL_Account 3620; ',\n",
       " 'Journal_ID 20471; GL_Account 6510; ',\n",
       " 'Journal_ID 56249; GL_Account 1281; ',\n",
       " 'Journal_ID 53189; GL_Account 3320; ',\n",
       " 'Journal_ID 8404; GL_Account 6510; ',\n",
       " 'Journal_ID 55316; GL_Account 8660; ',\n",
       " 'Journal_ID 6010; GL_Account 3620; ',\n",
       " 'Journal_ID 9081; GL_Account 6410; ',\n",
       " 'Journal_ID 29386; GL_Account 1310; ',\n",
       " 'Journal_ID 22522; GL_Account 6210; ',\n",
       " 'Journal_ID #na#; GL_Account 1310; ',\n",
       " 'Journal_ID 9726; GL_Account 6210; ',\n",
       " 'Journal_ID 10202; GL_Account 1310; ',\n",
       " 'Journal_ID 39892; GL_Account 6210; ',\n",
       " 'Journal_ID 51968; GL_Account 3310; ',\n",
       " 'Journal_ID #na#; GL_Account 1310; ',\n",
       " 'Journal_ID 58465; GL_Account 1281; ',\n",
       " 'Journal_ID 18353; GL_Account 3620; ',\n",
       " 'Journal_ID 12142; GL_Account 3620; ',\n",
       " 'Journal_ID 40231; GL_Account 1310; ',\n",
       " 'Journal_ID 36673; GL_Account 6210; ',\n",
       " 'Journal_ID 54306; GL_Account 6210; ',\n",
       " 'Journal_ID 40919; GL_Account 1310; ',\n",
       " 'Journal_ID 51767; GL_Account 6280; ',\n",
       " 'Journal_ID 50265; GL_Account 1310; ',\n",
       " 'Journal_ID 4972; GL_Account 1310; ',\n",
       " 'Journal_ID 6361; GL_Account 7910; ',\n",
       " 'Journal_ID 5468; GL_Account 6210; ',\n",
       " 'Journal_ID 26195; GL_Account 3620; ',\n",
       " 'Journal_ID 51590; GL_Account 6260; ',\n",
       " 'Journal_ID 21672; GL_Account 3620; ',\n",
       " 'Journal_ID 50689; GL_Account 3620; ',\n",
       " 'Journal_ID 30568; GL_Account 1310; ',\n",
       " 'Journal_ID #na#; GL_Account 1310; ',\n",
       " 'Journal_ID 43255; GL_Account 1310; ',\n",
       " 'Journal_ID 7318; GL_Account 3620; ',\n",
       " 'Journal_ID 52755; GL_Account 3630; ',\n",
       " 'Journal_ID 54077; GL_Account 3630; ',\n",
       " 'Journal_ID 27834; GL_Account 7935; ',\n",
       " 'Journal_ID 37028; GL_Account 1310; ',\n",
       " 'Journal_ID 23495; GL_Account 1310; ',\n",
       " 'Journal_ID 19845; GL_Account 1310; ',\n",
       " 'Journal_ID 49166; GL_Account 3620; ',\n",
       " 'Journal_ID #na#; GL_Account 1310; ',\n",
       " 'Journal_ID 15106; GL_Account 1310; ',\n",
       " 'Journal_ID 40708; GL_Account 6510; ',\n",
       " 'Journal_ID 36698; GL_Account 1310; ',\n",
       " 'Journal_ID 60233; GL_Account 1281; ',\n",
       " 'Journal_ID 61424; GL_Account 1294; ',\n",
       " 'Journal_ID 29954; GL_Account 1310; ',\n",
       " 'Journal_ID 1462; GL_Account 1310; ',\n",
       " 'Journal_ID 27804; GL_Account 6210; ',\n",
       " 'Journal_ID 26438; GL_Account 3620; ',\n",
       " 'Journal_ID 18034; GL_Account 3620; ',\n",
       " 'Journal_ID 41443; GL_Account 3620; ',\n",
       " 'Journal_ID 7669; GL_Account 3620; ',\n",
       " 'Journal_ID 17953; GL_Account 3620; ',\n",
       " 'Journal_ID 5223; GL_Account 1310; ',\n",
       " 'Journal_ID 57319; GL_Account 1281; ',\n",
       " 'Journal_ID 12875; GL_Account 6210; ',\n",
       " 'Journal_ID 51496; GL_Account 7920; ',\n",
       " 'Journal_ID 26361; GL_Account 1310; ',\n",
       " 'Journal_ID 20915; GL_Account 1310; ',\n",
       " 'Journal_ID 29658; GL_Account 6210; ',\n",
       " 'Journal_ID 40088; GL_Account 1310; ',\n",
       " 'Journal_ID 13537; GL_Account 6210; ',\n",
       " 'Journal_ID 16706; GL_Account 6210; ',\n",
       " 'Journal_ID 51857; GL_Account 6260; ',\n",
       " 'Journal_ID 25085; GL_Account 3620; ',\n",
       " 'Journal_ID 17057; GL_Account 1310; ',\n",
       " 'Journal_ID 64435; GL_Account 1281; ',\n",
       " 'Journal_ID 33848; GL_Account 6510; ',\n",
       " 'Journal_ID 55855; GL_Account 1281; ',\n",
       " 'Journal_ID 978; GL_Account 1265; ',\n",
       " 'Journal_ID 56023; GL_Account 1294; ',\n",
       " 'Journal_ID 6771; GL_Account 1310; ',\n",
       " 'Journal_ID 20612; GL_Account 3620; ',\n",
       " 'Journal_ID 27179; GL_Account 1310; ',\n",
       " 'Journal_ID 57540; GL_Account 1310; ',\n",
       " 'Journal_ID 50441; GL_Account 3620; ',\n",
       " 'Journal_ID 17886; GL_Account 1310; ',\n",
       " 'Journal_ID 50335; GL_Account 3620; ',\n",
       " 'Journal_ID 26716; GL_Account 3620; ',\n",
       " 'Journal_ID 22065; GL_Account 3620; ',\n",
       " 'Journal_ID 33659; GL_Account 3620; ',\n",
       " 'Journal_ID 48111; GL_Account 3620; ',\n",
       " 'Journal_ID 53712; GL_Account 3320; ',\n",
       " 'Journal_ID 36892; GL_Account 3620; ',\n",
       " 'Journal_ID 27169; GL_Account 3620; ',\n",
       " 'Journal_ID 50604; GL_Account 1310; ',\n",
       " 'Journal_ID #na#; GL_Account 1310; ',\n",
       " 'Journal_ID 56867; GL_Account 1281; ',\n",
       " 'Journal_ID 39355; GL_Account 3620; ',\n",
       " 'Journal_ID 52036; GL_Account 3420; ',\n",
       " 'Journal_ID 51956; GL_Account 3480; ',\n",
       " 'Journal_ID 39434; GL_Account 6210; ',\n",
       " 'Journal_ID 16378; GL_Account 1310; ',\n",
       " 'Journal_ID #na#; GL_Account 1310; ',\n",
       " 'Journal_ID 27553; GL_Account 6210; ',\n",
       " 'Journal_ID 14103; GL_Account 6210; ',\n",
       " 'Journal_ID 42156; GL_Account 3620; ',\n",
       " 'Journal_ID 13846; GL_Account 6210; ',\n",
       " 'Journal_ID 29899; GL_Account 3620; ',\n",
       " 'Journal_ID 23332; GL_Account 1310; ',\n",
       " 'Journal_ID 37683; GL_Account 6210; ',\n",
       " 'Journal_ID 52933; GL_Account 3320; ',\n",
       " 'Journal_ID 17532; GL_Account 6710; ',\n",
       " 'Journal_ID 49192; GL_Account 6210; ',\n",
       " 'Journal_ID 40829; GL_Account 1310; ',\n",
       " 'Journal_ID 44057; GL_Account 1310; ',\n",
       " 'Journal_ID 38508; GL_Account 6210; ',\n",
       " 'Journal_ID 28368; GL_Account 6510; ',\n",
       " 'Journal_ID 50935; GL_Account 3620; ',\n",
       " 'Journal_ID 48991; GL_Account 1310; ',\n",
       " 'Journal_ID 6133; GL_Account 1310; ',\n",
       " 'Journal_ID 38901; GL_Account 1310; ',\n",
       " 'Journal_ID 50016; GL_Account 1310; ',\n",
       " 'Journal_ID 35174; GL_Account 1310; ',\n",
       " 'Journal_ID 31114; GL_Account 3620; ',\n",
       " 'Journal_ID 46798; GL_Account 6510; ',\n",
       " 'Journal_ID 10359; GL_Account 1310; ',\n",
       " 'Journal_ID 10913; GL_Account 1310; ',\n",
       " 'Journal_ID 43423; GL_Account 3620; ',\n",
       " 'Journal_ID 65108; GL_Account 1294; ',\n",
       " 'Journal_ID 64999; GL_Account 2003; ',\n",
       " 'Journal_ID 6084; GL_Account 3620; ',\n",
       " 'Journal_ID 64376; GL_Account 1310; ',\n",
       " 'Journal_ID 19218; GL_Account 1310; ',\n",
       " 'Journal_ID 17248; GL_Account 3620; ',\n",
       " 'Journal_ID 52348; GL_Account 8550; ',\n",
       " 'Journal_ID 37364; GL_Account 3620; ',\n",
       " 'Journal_ID 34858; GL_Account 6210; ',\n",
       " 'Journal_ID 5395; GL_Account 6210; ',\n",
       " 'Journal_ID 30440; GL_Account 1310; ',\n",
       " 'Journal_ID 31086; GL_Account 6210; ',\n",
       " 'Journal_ID 42040; GL_Account 1310; ',\n",
       " 'Journal_ID 65704; GL_Account 8355; ',\n",
       " 'Journal_ID 7177; GL_Account 3620; ',\n",
       " 'Journal_ID 31899; GL_Account 3620; ',\n",
       " 'Journal_ID 2796; GL_Account 9240; ',\n",
       " 'Journal_ID 14492; GL_Account 6710; ',\n",
       " 'Journal_ID 4791; GL_Account 3620; ',\n",
       " 'Journal_ID 32104; GL_Account 1310; ',\n",
       " 'Journal_ID 28332; GL_Account 1310; ',\n",
       " 'Journal_ID 12764; GL_Account 1310; ',\n",
       " 'Journal_ID 36702; GL_Account 1310; ',\n",
       " 'Journal_ID 40728; GL_Account 6210; ',\n",
       " 'Journal_ID 20597; GL_Account 6510; ',\n",
       " 'Journal_ID 3176; GL_Account 3310; ',\n",
       " 'Journal_ID 48732; GL_Account 3620; ',\n",
       " 'Journal_ID 17891; GL_Account 1310; ',\n",
       " 'Journal_ID 39228; GL_Account 3620; ',\n",
       " 'Journal_ID 50009; GL_Account 1310; ',\n",
       " 'Journal_ID 23691; GL_Account 1310; ',\n",
       " 'Journal_ID 24465; GL_Account 3620; ',\n",
       " 'Journal_ID 46256; GL_Account 3620; ',\n",
       " 'Journal_ID #na#; GL_Account 1310; ',\n",
       " 'Journal_ID 51490; GL_Account 6560; ',\n",
       " 'Journal_ID 48392; GL_Account 1310; ',\n",
       " 'Journal_ID 28196; GL_Account 1310; ',\n",
       " 'Journal_ID 38607; GL_Account 6510; ',\n",
       " 'Journal_ID 59327; GL_Account 1281; ',\n",
       " 'Journal_ID 63656; GL_Account 1281; ',\n",
       " 'Journal_ID 20751; GL_Account 6710; ',\n",
       " 'Journal_ID 7704; GL_Account 3620; ',\n",
       " 'Journal_ID 9805; GL_Account 3620; ',\n",
       " 'Journal_ID 35671; GL_Account 3620; ',\n",
       " 'Journal_ID 8826; GL_Account 3620; ',\n",
       " 'Journal_ID 16757; GL_Account 6210; ',\n",
       " 'Journal_ID 23132; GL_Account 6210; ',\n",
       " 'Journal_ID 24543; GL_Account 1310; ',\n",
       " 'Journal_ID 44608; GL_Account 3620; ',\n",
       " 'Journal_ID 4460; GL_Account 3620; ',\n",
       " 'Journal_ID 51562; GL_Account 3430; ',\n",
       " 'Journal_ID 52131; GL_Account 3320; ',\n",
       " 'Journal_ID 51231; GL_Account 6210; ',\n",
       " 'Journal_ID 39942; GL_Account 1310; ',\n",
       " 'Journal_ID 49690; GL_Account 1310; ',\n",
       " 'Journal_ID 15816; GL_Account 6210; ',\n",
       " 'Journal_ID 43920; GL_Account 3620; ',\n",
       " 'Journal_ID 40969; GL_Account 1310; ',\n",
       " 'Journal_ID 12944; GL_Account 1310; ',\n",
       " 'Journal_ID 41693; GL_Account 1310; ',\n",
       " 'Journal_ID 26324; GL_Account 1310; ',\n",
       " 'Journal_ID 44275; GL_Account 1310; ',\n",
       " 'Journal_ID 67; GL_Account 1265; ',\n",
       " 'Journal_ID 49436; GL_Account 7935; ',\n",
       " 'Journal_ID 39545; GL_Account 6710; ',\n",
       " 'Journal_ID #na#; GL_Account 1310; ',\n",
       " 'Journal_ID 48994; GL_Account 1310; ',\n",
       " 'Journal_ID 50552; GL_Account 1310; ',\n",
       " 'Journal_ID 12600; GL_Account 1310; ',\n",
       " 'Journal_ID 1042; GL_Account 9510; ',\n",
       " 'Journal_ID 42825; GL_Account 1310; ',\n",
       " 'Journal_ID 37310; GL_Account 1310; ',\n",
       " 'Journal_ID 42168; GL_Account 3620; ',\n",
       " 'Journal_ID #na#; GL_Account 3320; ',\n",
       " 'Journal_ID 39428; GL_Account 3620; ',\n",
       " 'Journal_ID 21522; GL_Account 1310; ',\n",
       " 'Journal_ID 60684; GL_Account 1310; ',\n",
       " 'Journal_ID 10984; GL_Account 6210; ',\n",
       " 'Journal_ID 57183; GL_Account 1310; ',\n",
       " 'Journal_ID 49134; GL_Account 6510; ',\n",
       " 'Journal_ID 30667; GL_Account 3620; ',\n",
       " 'Journal_ID 57465; GL_Account 1310; ',\n",
       " 'Journal_ID 54741; GL_Account 1310; ',\n",
       " 'Journal_ID 42789; GL_Account 3620; ',\n",
       " 'Journal_ID 32669; GL_Account 3620; ',\n",
       " 'Journal_ID 32357; GL_Account 1310; ',\n",
       " 'Journal_ID 51563; GL_Account 3480; ',\n",
       " 'Journal_ID 20934; GL_Account 1310; ',\n",
       " 'Journal_ID 23224; GL_Account 6210; ',\n",
       " 'Journal_ID 30400; GL_Account 1310; ',\n",
       " 'Journal_ID 7125; GL_Account 6410; ',\n",
       " 'Journal_ID 11953; GL_Account 3620; ',\n",
       " 'Journal_ID 65180; GL_Account 2002; ',\n",
       " 'Journal_ID 32629; GL_Account 6210; ',\n",
       " 'Journal_ID 56629; GL_Account 1281; ',\n",
       " 'Journal_ID 28506; GL_Account 6710; ',\n",
       " 'Journal_ID 47704; GL_Account 6210; ',\n",
       " 'Journal_ID 40278; GL_Account 1310; ',\n",
       " 'Journal_ID 4233; GL_Account 6210; ',\n",
       " 'Journal_ID 35624; GL_Account 7910; ',\n",
       " 'Journal_ID 56161; GL_Account 1294; ',\n",
       " 'Journal_ID 8689; GL_Account 3620; ',\n",
       " 'Journal_ID 13613; GL_Account 6510; ',\n",
       " 'Journal_ID 19366; GL_Account 6210; ',\n",
       " 'Journal_ID 65126; GL_Account 2002; ',\n",
       " 'Journal_ID 45138; GL_Account 6210; ',\n",
       " 'Journal_ID 7692; GL_Account 6210; ',\n",
       " 'Journal_ID 34485; GL_Account 3620; ',\n",
       " 'Journal_ID 32188; GL_Account 3620; ',\n",
       " 'Journal_ID 27294; GL_Account 1310; ',\n",
       " 'Journal_ID 54437; GL_Account 1310; ',\n",
       " 'Journal_ID 30444; GL_Account 6510; ',\n",
       " 'Journal_ID 11242; GL_Account 3620; ',\n",
       " 'Journal_ID 13774; GL_Account 3620; ',\n",
       " 'Journal_ID 23674; GL_Account 1310; ',\n",
       " 'Journal_ID 52172; GL_Account 3320; ',\n",
       " 'Journal_ID 50046; GL_Account 6210; ',\n",
       " 'Journal_ID 40808; GL_Account 6210; ',\n",
       " 'Journal_ID 59368; GL_Account 1281; ',\n",
       " 'Journal_ID 20688; GL_Account 1310; ',\n",
       " 'Journal_ID 50044; GL_Account 3620; ',\n",
       " 'Journal_ID 20597; GL_Account 3620; ',\n",
       " 'Journal_ID 17860; GL_Account 1310; ',\n",
       " 'Journal_ID 52036; GL_Account 3480; ',\n",
       " 'Journal_ID 51579; GL_Account 6280; ',\n",
       " 'Journal_ID 52035; GL_Account 6570; ',\n",
       " 'Journal_ID 53947; GL_Account 3630; ',\n",
       " 'Journal_ID 8317; GL_Account 1310; ',\n",
       " 'Journal_ID 48732; GL_Account 6510; ',\n",
       " 'Journal_ID 24662; GL_Account 6210; ',\n",
       " 'Journal_ID 9047; GL_Account 6210; ',\n",
       " 'Journal_ID 39316; GL_Account 6510; ',\n",
       " 'Journal_ID 28856; GL_Account 1310; ',\n",
       " 'Journal_ID 23404; GL_Account 1310; ',\n",
       " 'Journal_ID 52082; GL_Account 6260; ',\n",
       " 'Journal_ID 64877; GL_Account 2003; ',\n",
       " 'Journal_ID 47739; GL_Account 6510; ',\n",
       " 'Journal_ID 17262; GL_Account 6210; ',\n",
       " 'Journal_ID 23845; GL_Account 6510; ',\n",
       " 'Journal_ID 47216; GL_Account 3620; ',\n",
       " 'Journal_ID #na#; GL_Account 1310; ',\n",
       " 'Journal_ID 26477; GL_Account 3620; ',\n",
       " 'Journal_ID 59446; GL_Account 1310; ',\n",
       " 'Journal_ID 11773; GL_Account 6510; ',\n",
       " 'Journal_ID 11171; GL_Account 1310; ',\n",
       " 'Journal_ID 57185; GL_Account 1281; ',\n",
       " 'Journal_ID 36300; GL_Account 3620; ',\n",
       " 'Journal_ID 64921; GL_Account 2002; ',\n",
       " 'Journal_ID 62467; GL_Account 1310; ',\n",
       " 'Journal_ID 56575; GL_Account 1310; ',\n",
       " 'Journal_ID 65670; GL_Account 8900; ',\n",
       " 'Journal_ID 10875; GL_Account 1310; ',\n",
       " 'Journal_ID 3920; GL_Account 3320; ',\n",
       " 'Journal_ID 5804; GL_Account 1310; ',\n",
       " 'Journal_ID 14659; GL_Account 3620; ',\n",
       " 'Journal_ID 62365; GL_Account 1310; ',\n",
       " 'Journal_ID 64446; GL_Account 1310; ',\n",
       " 'Journal_ID 14455; GL_Account 3620; ',\n",
       " 'Journal_ID 14045; GL_Account 1310; ',\n",
       " 'Journal_ID 18173; GL_Account 1310; ',\n",
       " 'Journal_ID 48270; GL_Account 3620; ',\n",
       " 'Journal_ID 13766; GL_Account 1310; ',\n",
       " 'Journal_ID 13661; GL_Account 1310; ',\n",
       " 'Journal_ID 27527; GL_Account 3620; ',\n",
       " 'Journal_ID 29925; GL_Account 1310; ',\n",
       " 'Journal_ID 32713; GL_Account 6210; ',\n",
       " 'Journal_ID 37030; GL_Account 3620; ',\n",
       " 'Journal_ID 46775; GL_Account 6210; ',\n",
       " 'Journal_ID 39448; GL_Account 1310; ',\n",
       " 'Journal_ID 41957; GL_Account 1310; ',\n",
       " 'Journal_ID 15828; GL_Account 3620; ',\n",
       " 'Journal_ID 48187; GL_Account 1310; ',\n",
       " 'Journal_ID 49844; GL_Account 1310; ',\n",
       " 'Journal_ID 8957; GL_Account 6210; ',\n",
       " 'Journal_ID 5972; GL_Account 6210; ',\n",
       " 'Journal_ID 35181; GL_Account 3620; ',\n",
       " 'Journal_ID 2714; GL_Account 9255; ',\n",
       " 'Journal_ID 15350; GL_Account 1310; ',\n",
       " 'Journal_ID 50585; GL_Account 3620; ',\n",
       " 'Journal_ID 32191; GL_Account 3620; ',\n",
       " 'Journal_ID 26803; GL_Account 1310; ',\n",
       " 'Journal_ID 34604; GL_Account 3620; ',\n",
       " 'Journal_ID 7678; GL_Account 3620; ',\n",
       " 'Journal_ID 35416; GL_Account 3620; ',\n",
       " 'Journal_ID 35747; GL_Account 6210; ',\n",
       " 'Journal_ID 34489; GL_Account 3620; ',\n",
       " 'Journal_ID 49154; GL_Account 1310; ',\n",
       " 'Journal_ID 10596; GL_Account 7910; ',\n",
       " 'Journal_ID 51811; GL_Account 7935; ',\n",
       " 'Journal_ID 39663; GL_Account 1310; ',\n",
       " 'Journal_ID 24538; GL_Account 3620; ',\n",
       " 'Journal_ID 40466; GL_Account 1310; ',\n",
       " 'Journal_ID 29682; GL_Account 6210; ',\n",
       " 'Journal_ID #na#; GL_Account 1310; ',\n",
       " 'Journal_ID 60525; GL_Account 1281; ',\n",
       " 'Journal_ID 39280; GL_Account 3620; ',\n",
       " 'Journal_ID 9522; GL_Account 3620; ',\n",
       " 'Journal_ID 5408; GL_Account 3620; ',\n",
       " 'Journal_ID 30006; GL_Account 6210; ',\n",
       " 'Journal_ID 7752; GL_Account 3620; ',\n",
       " 'Journal_ID 56822; GL_Account 1281; ',\n",
       " 'Journal_ID 54288; GL_Account 8730; ',\n",
       " 'Journal_ID 50750; GL_Account 6510; ',\n",
       " 'Journal_ID 51494; GL_Account 3650; ',\n",
       " 'Journal_ID 34335; GL_Account 6210; ',\n",
       " 'Journal_ID 60497; GL_Account 1310; ',\n",
       " 'Journal_ID 47839; GL_Account 6510; ',\n",
       " 'Journal_ID 44184; GL_Account 3620; ',\n",
       " 'Journal_ID 65212; GL_Account 1310; ',\n",
       " 'Journal_ID 10167; GL_Account 3620; ',\n",
       " 'Journal_ID 58298; GL_Account 1310; ',\n",
       " 'Journal_ID #na#; GL_Account 1310; ',\n",
       " 'Journal_ID 21046; GL_Account 6210; ',\n",
       " 'Journal_ID 41118; GL_Account 2393; ',\n",
       " 'Journal_ID 1129; GL_Account 8650; ',\n",
       " 'Journal_ID 35490; GL_Account 1310; ',\n",
       " 'Journal_ID 24437; GL_Account 6510; ',\n",
       " 'Journal_ID 51688; GL_Account 3310; ',\n",
       " 'Journal_ID 56646; GL_Account 1281; ',\n",
       " 'Journal_ID 20882; GL_Account 6210; ',\n",
       " 'Journal_ID 27314; GL_Account 6210; ',\n",
       " 'Journal_ID 7278; GL_Account 6210; ',\n",
       " 'Journal_ID 48849; GL_Account 3620; ',\n",
       " 'Journal_ID #na#; GL_Account 1310; ',\n",
       " 'Journal_ID 38994; GL_Account 1310; ',\n",
       " 'Journal_ID 37778; GL_Account 3620; ',\n",
       " 'Journal_ID 30739; GL_Account 1310; ',\n",
       " 'Journal_ID 20428; GL_Account 3620; ',\n",
       " 'Journal_ID 47903; GL_Account 3620; ',\n",
       " 'Journal_ID 10367; GL_Account 3620; ',\n",
       " 'Journal_ID 53793; GL_Account 2392; ',\n",
       " 'Journal_ID 11954; GL_Account 1310; ',\n",
       " 'Journal_ID 52868; GL_Account 3630; ',\n",
       " 'Journal_ID 13267; GL_Account 1310; ',\n",
       " 'Journal_ID 32268; GL_Account 6210; ',\n",
       " 'Journal_ID 55768; GL_Account 1294; ',\n",
       " 'Journal_ID 46310; GL_Account 1310; ',\n",
       " 'Journal_ID 25525; GL_Account 6210; ',\n",
       " 'Journal_ID 29997; GL_Account 3620; ',\n",
       " 'Journal_ID 19140; GL_Account 6510; ',\n",
       " 'Journal_ID 59724; GL_Account 1281; ',\n",
       " 'Journal_ID 6256; GL_Account 6510; ',\n",
       " 'Journal_ID 64635; GL_Account 1281; ',\n",
       " 'Journal_ID 22088; GL_Account 3620; ',\n",
       " 'Journal_ID 34612; GL_Account 2393; ',\n",
       " 'Journal_ID 11089; GL_Account 6210; ',\n",
       " 'Journal_ID 51333; GL_Account 6260; ',\n",
       " 'Journal_ID 34303; GL_Account 1310; ',\n",
       " 'Journal_ID 30738; GL_Account 6210; ',\n",
       " 'Journal_ID 53034; GL_Account 9130; ',\n",
       " 'Journal_ID 47647; GL_Account 3620; ',\n",
       " 'Journal_ID 29374; GL_Account 1310; ',\n",
       " 'Journal_ID 29911; GL_Account 6210; ',\n",
       " 'Journal_ID 17543; GL_Account 3620; ',\n",
       " 'Journal_ID 7864; GL_Account 6210; ',\n",
       " 'Journal_ID 20394; GL_Account 6510; ',\n",
       " 'Journal_ID 21573; GL_Account 1310; ',\n",
       " 'Journal_ID 28255; GL_Account 3620; ',\n",
       " 'Journal_ID #na#; GL_Account 6210; ',\n",
       " 'Journal_ID 51991; GL_Account 7920; ',\n",
       " 'Journal_ID 11650; GL_Account 1310; ',\n",
       " 'Journal_ID 1189; GL_Account 9240; ',\n",
       " 'Journal_ID 38904; GL_Account 6510; ',\n",
       " 'Journal_ID 26553; GL_Account 3620; ',\n",
       " 'Journal_ID 49736; GL_Account 1310; ',\n",
       " 'Journal_ID 47475; GL_Account 3620; ',\n",
       " 'Journal_ID 45699; GL_Account 3620; ',\n",
       " 'Journal_ID 18938; GL_Account 3620; ',\n",
       " 'Journal_ID 47431; GL_Account 1310; ',\n",
       " 'Journal_ID 62030; GL_Account 1281; ',\n",
       " 'Journal_ID 8626; GL_Account 1310; ',\n",
       " 'Journal_ID 56878; GL_Account 1281; ',\n",
       " 'Journal_ID 10296; GL_Account 6210; ',\n",
       " 'Journal_ID 11430; GL_Account 1310; ',\n",
       " 'Journal_ID 20770; GL_Account 3620; ',\n",
       " 'Journal_ID 3989; GL_Account 3610; ',\n",
       " 'Journal_ID 14835; GL_Account 6210; ',\n",
       " 'Journal_ID 28857; GL_Account 1310; ',\n",
       " 'Journal_ID #na#; GL_Account 1281; ',\n",
       " 'Journal_ID 27265; GL_Account 1310; ',\n",
       " 'Journal_ID 60701; GL_Account 1310; ',\n",
       " 'Journal_ID 55751; GL_Account 1281; ',\n",
       " 'Journal_ID 16588; GL_Account 1310; ',\n",
       " 'Journal_ID 56194; GL_Account 2003; ',\n",
       " 'Journal_ID 37749; GL_Account 6210; ',\n",
       " 'Journal_ID 19982; GL_Account 6210; ',\n",
       " 'Journal_ID 46589; GL_Account 6210; ',\n",
       " 'Journal_ID 50666; GL_Account 6510; ',\n",
       " 'Journal_ID 7434; GL_Account 1310; ',\n",
       " 'Journal_ID 1796; GL_Account 6710; ',\n",
       " 'Journal_ID 33540; GL_Account 3620; ',\n",
       " 'Journal_ID 29225; GL_Account 6210; ',\n",
       " 'Journal_ID 12402; GL_Account 6210; ',\n",
       " 'Journal_ID 44566; GL_Account 6210; ',\n",
       " 'Journal_ID 35161; GL_Account 6210; ',\n",
       " 'Journal_ID 29825; GL_Account 6210; ',\n",
       " 'Journal_ID 38899; GL_Account 3620; ',\n",
       " 'Journal_ID 4889; GL_Account 6210; ',\n",
       " 'Journal_ID 30080; GL_Account 6210; ',\n",
       " 'Journal_ID 19341; GL_Account 3620; ',\n",
       " 'Journal_ID 48868; GL_Account 3620; ',\n",
       " 'Journal_ID 27764; GL_Account 6210; ',\n",
       " 'Journal_ID 27945; GL_Account 3620; ',\n",
       " 'Journal_ID 34232; GL_Account 1310; ',\n",
       " 'Journal_ID 60; GL_Account 1265; ',\n",
       " 'Journal_ID 19933; GL_Account 6210; ',\n",
       " 'Journal_ID 38572; GL_Account 6710; ',\n",
       " 'Journal_ID 37258; GL_Account 1310; ',\n",
       " 'Journal_ID 41523; GL_Account 3620; ',\n",
       " 'Journal_ID 25793; GL_Account 1310; ',\n",
       " 'Journal_ID 46329; GL_Account 1310; ',\n",
       " 'Journal_ID 52125; GL_Account 3430; ',\n",
       " 'Journal_ID 1115; GL_Account 3620; ',\n",
       " 'Journal_ID 44965; GL_Account 6210; ',\n",
       " 'Journal_ID 51862; GL_Account 3480; ',\n",
       " 'Journal_ID 54648; GL_Account 3620; ',\n",
       " 'Journal_ID 54511; GL_Account 6710; ',\n",
       " 'Journal_ID 22090; GL_Account 3620; ',\n",
       " 'Journal_ID 62760; GL_Account 1310; ',\n",
       " 'Journal_ID 52853; GL_Account 3630; ',\n",
       " 'Journal_ID 19058; GL_Account 1310; ',\n",
       " 'Journal_ID 47378; GL_Account 1310; ',\n",
       " 'Journal_ID 1671; GL_Account 1281; ',\n",
       " 'Journal_ID 14870; GL_Account 1310; ',\n",
       " 'Journal_ID 51798; GL_Account 3420; ',\n",
       " 'Journal_ID 37732; GL_Account 1310; ',\n",
       " 'Journal_ID 51795; GL_Account 3310; ',\n",
       " 'Journal_ID 43186; GL_Account 1310; ',\n",
       " 'Journal_ID 56214; GL_Account 2002; ',\n",
       " 'Journal_ID 15590; GL_Account 6210; ',\n",
       " 'Journal_ID 17400; GL_Account 6510; ',\n",
       " 'Journal_ID 25282; GL_Account 6210; ',\n",
       " 'Journal_ID 52558; GL_Account 7950; ',\n",
       " 'Journal_ID #na#; GL_Account 1310; ',\n",
       " 'Journal_ID 5834; GL_Account 1310; ',\n",
       " 'Journal_ID 55461; GL_Account 1281; ',\n",
       " 'Journal_ID 18161; GL_Account 6710; ',\n",
       " 'Journal_ID 49490; GL_Account 3620; ',\n",
       " 'Journal_ID 38595; GL_Account 6210; ',\n",
       " 'Journal_ID 43799; GL_Account 2393; ',\n",
       " 'Journal_ID 62802; GL_Account 1310; ',\n",
       " 'Journal_ID 51007; GL_Account 3620; ',\n",
       " 'Journal_ID 36441; GL_Account 3620; ',\n",
       " 'Journal_ID 49553; GL_Account 7910; ',\n",
       " 'Journal_ID 52497; GL_Account 9230; ',\n",
       " 'Journal_ID 33233; GL_Account 3620; ',\n",
       " 'Journal_ID 22569; GL_Account 1310; ',\n",
       " 'Journal_ID 58031; GL_Account 1310; ',\n",
       " 'Journal_ID 42231; GL_Account 1310; ',\n",
       " 'Journal_ID 20206; GL_Account 6210; ',\n",
       " 'Journal_ID 13047; GL_Account 6210; ',\n",
       " 'Journal_ID 16155; GL_Account 1310; ',\n",
       " 'Journal_ID 63414; GL_Account 1310; ',\n",
       " 'Journal_ID 9407; GL_Account 3620; ',\n",
       " 'Journal_ID 35180; GL_Account 3620; ',\n",
       " 'Journal_ID 4500; GL_Account 1310; ',\n",
       " 'Journal_ID 52201; GL_Account 3630; ',\n",
       " 'Journal_ID 33927; GL_Account 3620; ',\n",
       " 'Journal_ID 65609; GL_Account 2003; ',\n",
       " 'Journal_ID 30421; GL_Account 1310; ',\n",
       " 'Journal_ID 49961; GL_Account 1310; ',\n",
       " 'Journal_ID #na#; GL_Account 1281; ',\n",
       " 'Journal_ID 57744; GL_Account 1310; ',\n",
       " 'Journal_ID 53380; GL_Account 3320; ',\n",
       " 'Journal_ID 39394; GL_Account 1310; ',\n",
       " 'Journal_ID 10390; GL_Account 1310; ',\n",
       " 'Journal_ID 33192; GL_Account 1310; ',\n",
       " 'Journal_ID 53691; GL_Account 8950; ',\n",
       " 'Journal_ID 30326; GL_Account 1310; ',\n",
       " 'Journal_ID 31280; GL_Account 1310; ',\n",
       " 'Journal_ID 51750; GL_Account 3310; ',\n",
       " 'Journal_ID 7787; GL_Account 6210; ',\n",
       " 'Journal_ID 14036; GL_Account 6210; ',\n",
       " 'Journal_ID 39233; GL_Account 3620; ',\n",
       " 'Journal_ID 43413; GL_Account 3620; ',\n",
       " 'Journal_ID 53010; GL_Account 3630; ',\n",
       " 'Journal_ID 50024; GL_Account 1310; ',\n",
       " 'Journal_ID 35221; GL_Account 3620; ',\n",
       " 'Journal_ID 19554; GL_Account 1310; ',\n",
       " 'Journal_ID 50438; GL_Account 3620; ',\n",
       " 'Journal_ID 36690; GL_Account 3620; ',\n",
       " 'Journal_ID 51016; GL_Account 1310; ',\n",
       " 'Journal_ID 20920; GL_Account 1310; ',\n",
       " 'Journal_ID 54803; GL_Account 6210; ',\n",
       " 'Journal_ID 9324; GL_Account 3620; ',\n",
       " 'Journal_ID 34308; GL_Account 6210; ',\n",
       " 'Journal_ID 37253; GL_Account 6510; ',\n",
       " 'Journal_ID 50045; GL_Account 6210; ',\n",
       " 'Journal_ID 10231; GL_Account 3620; ',\n",
       " 'Journal_ID #na#; GL_Account 3620; ',\n",
       " 'Journal_ID 21052; GL_Account 1310; ',\n",
       " 'Journal_ID 5602; GL_Account 3620; ',\n",
       " 'Journal_ID 53257; GL_Account 3320; ',\n",
       " 'Journal_ID 32707; GL_Account 6710; ',\n",
       " 'Journal_ID 12880; GL_Account 1310; ',\n",
       " 'Journal_ID 22568; GL_Account 6210; ',\n",
       " 'Journal_ID 40605; GL_Account 6510; ',\n",
       " 'Journal_ID 24803; GL_Account 6210; ',\n",
       " 'Journal_ID 45036; GL_Account 1310; ',\n",
       " 'Journal_ID 21499; GL_Account 3620; ',\n",
       " 'Journal_ID 8790; GL_Account 6510; ',\n",
       " 'Journal_ID 61211; GL_Account 1294; ',\n",
       " 'Journal_ID 27744; GL_Account 1310; ',\n",
       " 'Journal_ID 49379; GL_Account 3620; ',\n",
       " 'Journal_ID 25972; GL_Account 6210; ',\n",
       " 'Journal_ID 63035; GL_Account 1310; ',\n",
       " 'Journal_ID 65628; GL_Account 2002; ',\n",
       " 'Journal_ID 32147; GL_Account 7910; ',\n",
       " 'Journal_ID 26520; GL_Account 3620; ',\n",
       " 'Journal_ID 29858; GL_Account 1310; ',\n",
       " 'Journal_ID 21997; GL_Account 6510; ',\n",
       " 'Journal_ID 33644; GL_Account 6510; ',\n",
       " 'Journal_ID 27206; GL_Account 6210; ',\n",
       " 'Journal_ID 44145; GL_Account 1310; ',\n",
       " 'Journal_ID 22736; GL_Account 3620; ',\n",
       " 'Journal_ID 29698; GL_Account 1310; ',\n",
       " 'Journal_ID 57027; GL_Account 1281; ',\n",
       " 'Journal_ID 31836; GL_Account 1310; ',\n",
       " 'Journal_ID 6477; GL_Account 3620; ',\n",
       " 'Journal_ID 31831; GL_Account 3620; ',\n",
       " 'Journal_ID 21391; GL_Account 1310; ',\n",
       " 'Journal_ID 5465; GL_Account 1310; ',\n",
       " 'Journal_ID 25111; GL_Account 3620; ',\n",
       " 'Journal_ID 36931; GL_Account 6510; ',\n",
       " 'Journal_ID 51924; GL_Account 6280; ',\n",
       " 'Journal_ID 8675; GL_Account 1310; ',\n",
       " 'Journal_ID 36258; GL_Account 3620; ',\n",
       " 'Journal_ID 64445; GL_Account 1310; ',\n",
       " 'Journal_ID 19419; GL_Account 1310; ',\n",
       " 'Journal_ID 37492; GL_Account 1310; ',\n",
       " 'Journal_ID 30915; GL_Account 7910; ',\n",
       " 'Journal_ID 64960; GL_Account 1281; ',\n",
       " 'Journal_ID 20068; GL_Account 3620; ',\n",
       " 'Journal_ID 26152; GL_Account 3620; ',\n",
       " 'Journal_ID 51333; GL_Account 6560; ',\n",
       " 'Journal_ID 10798; GL_Account 3620; ',\n",
       " 'Journal_ID 15563; GL_Account 6210; ',\n",
       " 'Journal_ID 20127; GL_Account 6510; ',\n",
       " 'Journal_ID 10649; GL_Account 1310; ',\n",
       " 'Journal_ID 40004; GL_Account 6210; ',\n",
       " 'Journal_ID 44424; GL_Account 1310; ',\n",
       " 'Journal_ID 47629; GL_Account 3620; ',\n",
       " 'Journal_ID 65846; GL_Account 8660; ',\n",
       " 'Journal_ID 61807; GL_Account 1281; ',\n",
       " 'Journal_ID 35426; GL_Account 1310; ',\n",
       " 'Journal_ID 16439; GL_Account 3620; ',\n",
       " 'Journal_ID 993; GL_Account 1265; ',\n",
       " 'Journal_ID 2772; GL_Account 8950; ',\n",
       " 'Journal_ID 49291; GL_Account 1310; ',\n",
       " 'Journal_ID 25697; GL_Account 1310; ',\n",
       " 'Journal_ID 30687; GL_Account 3620; ',\n",
       " 'Journal_ID 51237; GL_Account 3620; ',\n",
       " 'Journal_ID 40774; GL_Account 6210; ',\n",
       " 'Journal_ID 27551; GL_Account 3620; ',\n",
       " 'Journal_ID 53967; GL_Account 3320; ',\n",
       " 'Journal_ID 65881; GL_Account 8570; ',\n",
       " 'Journal_ID 16903; GL_Account 1310; ',\n",
       " 'Journal_ID 32239; GL_Account 6210; ',\n",
       " 'Journal_ID 47502; GL_Account 1310; ',\n",
       " 'Journal_ID 13622; GL_Account 1310; ',\n",
       " 'Journal_ID 33109; GL_Account 3620; ',\n",
       " 'Journal_ID 19955; GL_Account 3620; ',\n",
       " 'Journal_ID 51696; GL_Account 3480; ',\n",
       " 'Journal_ID 9433; GL_Account 1310; ',\n",
       " 'Journal_ID 22067; GL_Account 3620; ',\n",
       " 'Journal_ID 13645; GL_Account 3620; ',\n",
       " 'Journal_ID 28377; GL_Account 3620; ',\n",
       " 'Journal_ID 45007; GL_Account 6410; ',\n",
       " 'Journal_ID 18292; GL_Account 3620; ',\n",
       " 'Journal_ID 24325; GL_Account 6210; ',\n",
       " 'Journal_ID 9182; GL_Account 3620; ',\n",
       " 'Journal_ID 31788; GL_Account 3620; ',\n",
       " 'Journal_ID 57114; GL_Account 1281; ',\n",
       " 'Journal_ID 51320; GL_Account 3410; ',\n",
       " 'Journal_ID 64987; GL_Account 2002; ',\n",
       " 'Journal_ID 58184; GL_Account 1310; ',\n",
       " 'Journal_ID 1740; GL_Account 6710; ',\n",
       " 'Journal_ID 733; GL_Account 3485; ',\n",
       " 'Journal_ID 33323; GL_Account 6210; ',\n",
       " 'Journal_ID 26097; GL_Account 3620; ',\n",
       " 'Journal_ID 31382; GL_Account 1310; ',\n",
       " 'Journal_ID 16773; GL_Account 3620; ',\n",
       " 'Journal_ID 11195; GL_Account 3620; ',\n",
       " 'Journal_ID 26594; GL_Account 1310; ',\n",
       " 'Journal_ID 1044; GL_Account 3475; ',\n",
       " 'Journal_ID 49792; GL_Account 1310; ',\n",
       " 'Journal_ID 15243; GL_Account 3620; ',\n",
       " 'Journal_ID 43513; GL_Account 6210; ',\n",
       " 'Journal_ID 37560; GL_Account 1310; ',\n",
       " 'Journal_ID 2800; GL_Account 8660; ',\n",
       " 'Journal_ID 31722; GL_Account 3620; ',\n",
       " 'Journal_ID 34532; GL_Account 6510; ',\n",
       " 'Journal_ID 30293; GL_Account 1310; ',\n",
       " 'Journal_ID 3907; GL_Account 9245; ',\n",
       " 'Journal_ID #na#; GL_Account 6710; ',\n",
       " 'Journal_ID 63633; GL_Account 1310; ',\n",
       " 'Journal_ID 5501; GL_Account 1310; ',\n",
       " 'Journal_ID 5551; GL_Account 1310; ',\n",
       " 'Journal_ID 50032; GL_Account 6210; ',\n",
       " 'Journal_ID 11708; GL_Account 6510; ',\n",
       " 'Journal_ID 50943; GL_Account 3620; ',\n",
       " 'Journal_ID #na#; GL_Account 1310; ',\n",
       " 'Journal_ID 50690; GL_Account 6510; ',\n",
       " 'Journal_ID 56443; GL_Account 1281; ',\n",
       " 'Journal_ID 28669; GL_Account 3620; ',\n",
       " 'Journal_ID 24050; GL_Account 1310; ',\n",
       " 'Journal_ID 20629; GL_Account 6510; ',\n",
       " 'Journal_ID 27967; GL_Account 1310; ',\n",
       " 'Journal_ID 43459; GL_Account 9205; ',\n",
       " 'Journal_ID 38398; GL_Account 1310; ',\n",
       " 'Journal_ID 44025; GL_Account 1310; ',\n",
       " 'Journal_ID 14230; GL_Account 1310; ',\n",
       " ...]"
      ]
     },
     "execution_count": 25,
     "metadata": {
      "tags": []
     },
     "output_type": "execute_result"
    }
   ],
   "source": [
    "#scaled_data.valid_ds.get(1)\n",
    "array = []\n",
    "\n",
    "for row in range(0,len(scaled_data.valid_ds)):\n",
    "  array.append(str(scaled_data.valid_ds.get(row)))\n",
    "  \n",
    "#valid_df = pd.DataFrame.from_records(array, columns = labels)\n",
    "#type(array[0])\n",
    "array"
   ]
  },
  {
   "cell_type": "code",
   "execution_count": 0,
   "metadata": {
    "colab": {
     "base_uri": "https://localhost:8080/",
     "height": 34
    },
    "colab_type": "code",
    "executionInfo": {
     "elapsed": 1130,
     "status": "ok",
     "timestamp": 1550013175876,
     "user": {
      "displayName": "Zarif Aziz",
      "photoUrl": "https://lh3.googleusercontent.com/-yUhAF-OOVNQ/AAAAAAAAAAI/AAAAAAAAYZg/kakF3Ikz5xY/s64/photo.jpg",
      "userId": "08390252974221689885"
     },
     "user_tz": -660
    },
    "id": "Mh5s9FxBioD4",
    "outputId": "56620aee-d33d-4bcc-9445-73ea57b393e6"
   },
   "outputs": [
    {
     "data": {
      "text/plain": [
       "__main__.CollabLine"
      ]
     },
     "execution_count": 26,
     "metadata": {
      "tags": []
     },
     "output_type": "execute_result"
    }
   ],
   "source": [
    "array = []\n",
    "\n",
    "array.append(scaled_data.valid_ds.get(2))\n",
    "type(array[0])"
   ]
  },
  {
   "cell_type": "code",
   "execution_count": 0,
   "metadata": {
    "colab": {
     "base_uri": "https://localhost:8080/",
     "height": 34
    },
    "colab_type": "code",
    "executionInfo": {
     "elapsed": 736,
     "status": "ok",
     "timestamp": 1550013844650,
     "user": {
      "displayName": "Zarif Aziz",
      "photoUrl": "https://lh3.googleusercontent.com/-yUhAF-OOVNQ/AAAAAAAAAAI/AAAAAAAAYZg/kakF3Ikz5xY/s64/photo.jpg",
      "userId": "08390252974221689885"
     },
     "user_tz": -660
    },
    "id": "sDQ7_KKUBjId",
    "outputId": "70f680d4-56e9-4746-ff6e-63bcfe67facd"
   },
   "outputs": [
    {
     "data": {
      "text/plain": [
       "tensor(62)"
      ]
     },
     "execution_count": 40,
     "metadata": {
      "tags": []
     },
     "output_type": "execute_result"
    }
   ],
   "source": [
    "scaled_data.valid_ds.get(0).data[1]"
   ]
  },
  {
   "cell_type": "code",
   "execution_count": 0,
   "metadata": {
    "colab": {
     "base_uri": "https://localhost:8080/",
     "height": 34
    },
    "colab_type": "code",
    "executionInfo": {
     "elapsed": 683,
     "status": "ok",
     "timestamp": 1550013805008,
     "user": {
      "displayName": "Zarif Aziz",
      "photoUrl": "https://lh3.googleusercontent.com/-yUhAF-OOVNQ/AAAAAAAAAAI/AAAAAAAAYZg/kakF3Ikz5xY/s64/photo.jpg",
      "userId": "08390252974221689885"
     },
     "user_tz": -660
    },
    "id": "qbwVA9lyixBW",
    "outputId": "c7bf4f7a-a427-45a8-ba21-bc35c15e292f"
   },
   "outputs": [
    {
     "data": {
      "text/plain": [
       "array(62)"
      ]
     },
     "execution_count": 39,
     "metadata": {
      "tags": []
     },
     "output_type": "execute_result"
    }
   ],
   "source": [
    "scaled_data.valid_ds.get(0).data[1].numpy()"
   ]
  },
  {
   "cell_type": "code",
   "execution_count": 0,
   "metadata": {
    "colab": {
     "base_uri": "https://localhost:8080/",
     "height": 34
    },
    "colab_type": "code",
    "executionInfo": {
     "elapsed": 881,
     "status": "ok",
     "timestamp": 1550013176273,
     "user": {
      "displayName": "Zarif Aziz",
      "photoUrl": "https://lh3.googleusercontent.com/-yUhAF-OOVNQ/AAAAAAAAAAI/AAAAAAAAYZg/kakF3Ikz5xY/s64/photo.jpg",
      "userId": "08390252974221689885"
     },
     "user_tz": -660
    },
    "id": "0tjCpA7ZNtNj",
    "outputId": "fe8620e0-4212-4f55-9db0-95d1438ea86a"
   },
   "outputs": [
    {
     "data": {
      "text/plain": [
       "numpy.ndarray"
      ]
     },
     "execution_count": 28,
     "metadata": {
      "tags": []
     },
     "output_type": "execute_result"
    }
   ],
   "source": [
    "type(scaled_data.valid_ds.get(1).data[1].numpy())"
   ]
  },
  {
   "cell_type": "code",
   "execution_count": 0,
   "metadata": {
    "colab": {
     "base_uri": "https://localhost:8080/",
     "height": 34
    },
    "colab_type": "code",
    "executionInfo": {
     "elapsed": 728,
     "status": "ok",
     "timestamp": 1550013176275,
     "user": {
      "displayName": "Zarif Aziz",
      "photoUrl": "https://lh3.googleusercontent.com/-yUhAF-OOVNQ/AAAAAAAAAAI/AAAAAAAAYZg/kakF3Ikz5xY/s64/photo.jpg",
      "userId": "08390252974221689885"
     },
     "user_tz": -660
    },
    "id": "ts-TypOPOdCC",
    "outputId": "0267be40-e293-4d9d-de91-528046dda6f0"
   },
   "outputs": [
    {
     "data": {
      "text/plain": [
       "62"
      ]
     },
     "execution_count": 29,
     "metadata": {
      "tags": []
     },
     "output_type": "execute_result"
    }
   ],
   "source": [
    "# the output is just a number, which is probably an index\n",
    "scaled_data.valid_ds.get(0).data[1].numpy().tolist()"
   ]
  },
  {
   "cell_type": "code",
   "execution_count": 0,
   "metadata": {
    "colab": {
     "base_uri": "https://localhost:8080/",
     "height": 85
    },
    "colab_type": "code",
    "executionInfo": {
     "elapsed": 958,
     "status": "ok",
     "timestamp": 1550013176780,
     "user": {
      "displayName": "Zarif Aziz",
      "photoUrl": "https://lh3.googleusercontent.com/-yUhAF-OOVNQ/AAAAAAAAAAI/AAAAAAAAYZg/kakF3Ikz5xY/s64/photo.jpg",
      "userId": "08390252974221689885"
     },
     "user_tz": -660
    },
    "id": "xkHQt_owQLfM",
    "outputId": "98b143fe-0d0d-4788-b081-dc6c83f70f7c"
   },
   "outputs": [
    {
     "data": {
      "text/plain": [
       "OrderedDict([('Journal_ID',\n",
       "              array(['#na#', '1', '10', '100', ..., '9996', '9997', '9998', '9999'], dtype=object)),\n",
       "             ('GL_Account',\n",
       "              array(['#na#', '1210', '1220', '1260', ..., '9610', '9625', '9626', '9700'], dtype='<U21'))])"
      ]
     },
     "execution_count": 30,
     "metadata": {
      "tags": []
     },
     "output_type": "execute_result"
    }
   ],
   "source": [
    "scaled_data.valid_ds.get(5).classes"
   ]
  },
  {
   "cell_type": "code",
   "execution_count": 0,
   "metadata": {
    "colab": {
     "base_uri": "https://localhost:8080/",
     "height": 34
    },
    "colab_type": "code",
    "executionInfo": {
     "elapsed": 1674,
     "status": "ok",
     "timestamp": 1550013432913,
     "user": {
      "displayName": "Zarif Aziz",
      "photoUrl": "https://lh3.googleusercontent.com/-yUhAF-OOVNQ/AAAAAAAAAAI/AAAAAAAAYZg/kakF3Ikz5xY/s64/photo.jpg",
      "userId": "08390252974221689885"
     },
     "user_tz": -660
    },
    "id": "LX6hRT0yI7OO",
    "outputId": "2883ba8e-ff91-4765-e402-053609074eb2"
   },
   "outputs": [
    {
     "data": {
      "text/plain": [
       "array(['#na#', '1', '10', '100', ..., '9996', '9997', '9998', '9999'], dtype=object)"
      ]
     },
     "execution_count": 33,
     "metadata": {
      "tags": []
     },
     "output_type": "execute_result"
    }
   ],
   "source": [
    "# This seems to just contain a dict of every single Journal_ID\n",
    "#deadend\n",
    "\n",
    "scaled_data.valid_ds.get(5).classes['Journal_ID']"
   ]
  },
  {
   "cell_type": "code",
   "execution_count": 0,
   "metadata": {
    "colab": {
     "base_uri": "https://localhost:8080/",
     "height": 34
    },
    "colab_type": "code",
    "executionInfo": {
     "elapsed": 690,
     "status": "ok",
     "timestamp": 1550013492431,
     "user": {
      "displayName": "Zarif Aziz",
      "photoUrl": "https://lh3.googleusercontent.com/-yUhAF-OOVNQ/AAAAAAAAAAI/AAAAAAAAYZg/kakF3Ikz5xY/s64/photo.jpg",
      "userId": "08390252974221689885"
     },
     "user_tz": -660
    },
    "id": "Pb20il3PQJEv",
    "outputId": "a1ee19bc-fca5-4930-abfc-fa26d013b336"
   },
   "outputs": [
    {
     "data": {
      "text/plain": [
       "odict_items([('Journal_ID', array(['#na#', '1', '10', '100', ..., '9996', '9997', '9998', '9999'], dtype=object)), ('GL_Account', array(['#na#', '1210', '1220', '1260', ..., '9610', '9625', '9626', '9700'], dtype='<U21'))])"
      ]
     },
     "execution_count": 37,
     "metadata": {
      "tags": []
     },
     "output_type": "execute_result"
    }
   ],
   "source": [
    "scaled_data.valid_ds.get(5).classes.items()"
   ]
  },
  {
   "cell_type": "code",
   "execution_count": 0,
   "metadata": {
    "colab": {},
    "colab_type": "code",
    "id": "0P3rESxXADbl"
   },
   "outputs": [],
   "source": []
  }
 ],
 "metadata": {
  "accelerator": "GPU",
  "colab": {
   "collapsed_sections": [
    "_s_5AFraE4yk",
    "zMIzTXqlFt0J"
   ],
   "name": "Collab Filtering for Journals.ipynb",
   "provenance": [],
   "toc_visible": true,
   "version": "0.3.2"
  },
  "kernelspec": {
   "display_name": "Python 3",
   "language": "python",
   "name": "python3"
  },
  "language_info": {
   "codemirror_mode": {
    "name": "ipython",
    "version": 3
   },
   "file_extension": ".py",
   "mimetype": "text/x-python",
   "name": "python",
   "nbconvert_exporter": "python",
   "pygments_lexer": "ipython3",
   "version": "3.6.5"
  }
 },
 "nbformat": 4,
 "nbformat_minor": 1
}
